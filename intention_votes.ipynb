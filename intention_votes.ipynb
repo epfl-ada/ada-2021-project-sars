{
 "cells": [
  {
   "cell_type": "markdown",
   "metadata": {},
   "source": [
    "### - Scrap the votes 2016 / 2020"
   ]
  },
  {
   "cell_type": "code",
   "execution_count": 6,
   "metadata": {},
   "outputs": [
    {
     "name": "stderr",
     "output_type": "stream",
     "text": [
      "\n",
      "\n",
      "====== WebDriver manager ======\n",
      "Current google-chrome version is 95.0.4638\n",
      "Get LATEST driver version for 95.0.4638\n",
      "Driver [C:\\Users\\saadc\\.wdm\\drivers\\chromedriver\\win32\\95.0.4638.54\\chromedriver.exe] found in cache\n"
     ]
    }
   ],
   "source": [
    "from selenium import webdriver\n",
    "from bs4 import BeautifulSoup\n",
    "from webdriver_manager.chrome import ChromeDriverManager\n",
    "\n",
    "\n",
    "options  = webdriver.ChromeOptions()\n",
    "driver = webdriver.Chrome(executable_path=ChromeDriverManager().install(),options=options)\n",
    "driver.set_window_size(1120,1000)\n",
    "driver.get('https://www.realclearpolitics.com/epolls/2020/president/us/general_election_trump_vs_biden-6247.html')\n",
    "\n",
    "# Wait for the page to fully load\n",
    "driver.implicitly_wait(5)\n",
    "\n",
    "# Step 2: Parse HTML code and grab tables with Beautiful Soup\n",
    "soup = BeautifulSoup(driver.page_source, 'lxml')\n",
    "\n",
    "tables = soup.find_all('table')\n",
    "\n",
    "# Step 3: Read tables with Pandas read_html()\n",
    "df_table_2020 = pd.read_html(str(tables))\n",
    "\n",
    "\n",
    "driver.close()"
   ]
  },
  {
   "cell_type": "code",
   "execution_count": 24,
   "metadata": {},
   "outputs": [
    {
     "data": {
      "text/html": [
       "<div>\n",
       "<style scoped>\n",
       "    .dataframe tbody tr th:only-of-type {\n",
       "        vertical-align: middle;\n",
       "    }\n",
       "\n",
       "    .dataframe tbody tr th {\n",
       "        vertical-align: top;\n",
       "    }\n",
       "\n",
       "    .dataframe thead th {\n",
       "        text-align: right;\n",
       "    }\n",
       "</style>\n",
       "<table border=\"1\" class=\"dataframe\">\n",
       "  <thead>\n",
       "    <tr style=\"text-align: right;\">\n",
       "      <th></th>\n",
       "      <th>Poll</th>\n",
       "      <th>Date</th>\n",
       "      <th>Sample</th>\n",
       "      <th>MoE</th>\n",
       "      <th>Biden (D)</th>\n",
       "      <th>Trump (R)</th>\n",
       "      <th>Spread</th>\n",
       "    </tr>\n",
       "  </thead>\n",
       "  <tbody>\n",
       "    <tr>\n",
       "      <th>0</th>\n",
       "      <td>Final Results</td>\n",
       "      <td>--</td>\n",
       "      <td>--</td>\n",
       "      <td>--</td>\n",
       "      <td>51.4</td>\n",
       "      <td>46.9</td>\n",
       "      <td>Biden +4.5</td>\n",
       "    </tr>\n",
       "    <tr>\n",
       "      <th>1</th>\n",
       "      <td>RCP Average</td>\n",
       "      <td>10/25 - 11/2</td>\n",
       "      <td>--</td>\n",
       "      <td>--</td>\n",
       "      <td>51.2</td>\n",
       "      <td>44.0</td>\n",
       "      <td>Biden +7.2</td>\n",
       "    </tr>\n",
       "    <tr>\n",
       "      <th>2</th>\n",
       "      <td>Economist/YouGovYouGov</td>\n",
       "      <td>10/31 - 11/2</td>\n",
       "      <td>1363 LV</td>\n",
       "      <td>3.3</td>\n",
       "      <td>53.0</td>\n",
       "      <td>43.0</td>\n",
       "      <td>Biden +10</td>\n",
       "    </tr>\n",
       "    <tr>\n",
       "      <th>3</th>\n",
       "      <td>IBD/TIPP*IBD/TIPP*</td>\n",
       "      <td>10/29 - 11/2</td>\n",
       "      <td>1212 LV</td>\n",
       "      <td>3.2</td>\n",
       "      <td>50.0</td>\n",
       "      <td>46.0</td>\n",
       "      <td>Biden +4</td>\n",
       "    </tr>\n",
       "    <tr>\n",
       "      <th>4</th>\n",
       "      <td>Reuters/IpsosReuters</td>\n",
       "      <td>10/29 - 11/2</td>\n",
       "      <td>914 LV</td>\n",
       "      <td>3.7</td>\n",
       "      <td>52.0</td>\n",
       "      <td>45.0</td>\n",
       "      <td>Biden +7</td>\n",
       "    </tr>\n",
       "  </tbody>\n",
       "</table>\n",
       "</div>"
      ],
      "text/plain": [
       "                     Poll          Date   Sample  MoE  Biden (D)  Trump (R)  \\\n",
       "0           Final Results            --       --   --       51.4       46.9   \n",
       "1             RCP Average  10/25 - 11/2       --   --       51.2       44.0   \n",
       "2  Economist/YouGovYouGov  10/31 - 11/2  1363 LV  3.3       53.0       43.0   \n",
       "3      IBD/TIPP*IBD/TIPP*  10/29 - 11/2  1212 LV  3.2       50.0       46.0   \n",
       "4    Reuters/IpsosReuters  10/29 - 11/2   914 LV  3.7       52.0       45.0   \n",
       "\n",
       "       Spread  \n",
       "0  Biden +4.5  \n",
       "1  Biden +7.2  \n",
       "2   Biden +10  \n",
       "3    Biden +4  \n",
       "4    Biden +7  "
      ]
     },
     "execution_count": 24,
     "metadata": {},
     "output_type": "execute_result"
    }
   ],
   "source": [
    "df_table_2020[2].head()"
   ]
  },
  {
   "cell_type": "code",
   "execution_count": 26,
   "metadata": {},
   "outputs": [],
   "source": [
    "#save the votes in a csv file : \n",
    "df_table_2020[2].to_csv(\"polls_2020.csv\")"
   ]
  },
  {
   "cell_type": "code",
   "execution_count": 27,
   "metadata": {},
   "outputs": [
    {
     "name": "stderr",
     "output_type": "stream",
     "text": [
      "\n",
      "\n",
      "====== WebDriver manager ======\n",
      "Current google-chrome version is 95.0.4638\n",
      "Get LATEST driver version for 95.0.4638\n",
      "Driver [C:\\Users\\saadc\\.wdm\\drivers\\chromedriver\\win32\\95.0.4638.54\\chromedriver.exe] found in cache\n"
     ]
    }
   ],
   "source": [
    "\n",
    "options  = webdriver.ChromeOptions()\n",
    "driver = webdriver.Chrome(executable_path=ChromeDriverManager().install(),options=options)\n",
    "driver.set_window_size(1120,1000)\n",
    "driver.get('https://www.realclearpolitics.com/epolls/2016/president/us/general_election_trump_vs_clinton-5491.html#polls')\n",
    "\n",
    "# Wait for the page to fully load\n",
    "driver.implicitly_wait(5)\n",
    "\n",
    "# Step 2: Parse HTML code and grab tables with Beautiful Soup\n",
    "soup = BeautifulSoup(driver.page_source, 'lxml')\n",
    "\n",
    "tables = soup.find_all('table')\n",
    "\n",
    "# Step 3: Read tables with Pandas read_html()\n",
    "df_table_2016 = pd.read_html(str(tables))\n",
    "\n",
    "\n",
    "driver.close()"
   ]
  },
  {
   "cell_type": "code",
   "execution_count": 87,
   "metadata": {},
   "outputs": [],
   "source": [
    "df_tab_2016 = pd.read_csv(\"polls_2016.csv\")\n",
    "df_tab_2020  = pd.read_csv(\"polls_2020.csv\")"
   ]
  },
  {
   "cell_type": "code",
   "execution_count": 88,
   "metadata": {},
   "outputs": [
    {
     "name": "stderr",
     "output_type": "stream",
     "text": [
      "<ipython-input-88-5ddc6b3740f2>:4: SettingWithCopyWarning:\n",
      "\n",
      "\n",
      "A value is trying to be set on a copy of a slice from a DataFrame.\n",
      "Try using .loc[row_indexer,col_indexer] = value instead\n",
      "\n",
      "See the caveats in the documentation: https://pandas.pydata.org/pandas-docs/stable/user_guide/indexing.html#returning-a-view-versus-a-copy\n",
      "\n",
      "<ipython-input-88-5ddc6b3740f2>:6: SettingWithCopyWarning:\n",
      "\n",
      "\n",
      "A value is trying to be set on a copy of a slice from a DataFrame.\n",
      "Try using .loc[row_indexer,col_indexer] = value instead\n",
      "\n",
      "See the caveats in the documentation: https://pandas.pydata.org/pandas-docs/stable/user_guide/indexing.html#returning-a-view-versus-a-copy\n",
      "\n"
     ]
    },
    {
     "data": {
      "text/html": [
       "<div>\n",
       "<style scoped>\n",
       "    .dataframe tbody tr th:only-of-type {\n",
       "        vertical-align: middle;\n",
       "    }\n",
       "\n",
       "    .dataframe tbody tr th {\n",
       "        vertical-align: top;\n",
       "    }\n",
       "\n",
       "    .dataframe thead th {\n",
       "        text-align: right;\n",
       "    }\n",
       "</style>\n",
       "<table border=\"1\" class=\"dataframe\">\n",
       "  <thead>\n",
       "    <tr style=\"text-align: right;\">\n",
       "      <th></th>\n",
       "      <th>Unnamed: 0</th>\n",
       "      <th>Poll</th>\n",
       "      <th>Date</th>\n",
       "      <th>Sample</th>\n",
       "      <th>MoE</th>\n",
       "      <th>Clinton (D)</th>\n",
       "      <th>Trump (R)</th>\n",
       "      <th>Spread</th>\n",
       "    </tr>\n",
       "  </thead>\n",
       "  <tbody>\n",
       "    <tr>\n",
       "      <th>0</th>\n",
       "      <td>0</td>\n",
       "      <td>Final Results</td>\n",
       "      <td>2016/--</td>\n",
       "      <td>--</td>\n",
       "      <td>--</td>\n",
       "      <td>48.2</td>\n",
       "      <td>46.1</td>\n",
       "      <td>Clinton +2.1</td>\n",
       "    </tr>\n",
       "    <tr>\n",
       "      <th>1</th>\n",
       "      <td>1</td>\n",
       "      <td>RCP Average</td>\n",
       "      <td>2016/11/1 - 11/7</td>\n",
       "      <td>--</td>\n",
       "      <td>--</td>\n",
       "      <td>46.8</td>\n",
       "      <td>43.6</td>\n",
       "      <td>Clinton +3.2</td>\n",
       "    </tr>\n",
       "    <tr>\n",
       "      <th>2</th>\n",
       "      <td>2</td>\n",
       "      <td>BloombergBloomberg</td>\n",
       "      <td>2016/11/4 - 11/6</td>\n",
       "      <td>799 LV</td>\n",
       "      <td>3.5</td>\n",
       "      <td>46.0</td>\n",
       "      <td>43.0</td>\n",
       "      <td>Clinton +3</td>\n",
       "    </tr>\n",
       "    <tr>\n",
       "      <th>3</th>\n",
       "      <td>3</td>\n",
       "      <td>IBD/TIPP TrackingIBD/TIPP Tracking</td>\n",
       "      <td>2016/11/4 - 11/7</td>\n",
       "      <td>1107 LV</td>\n",
       "      <td>3.1</td>\n",
       "      <td>43.0</td>\n",
       "      <td>42.0</td>\n",
       "      <td>Clinton +1</td>\n",
       "    </tr>\n",
       "    <tr>\n",
       "      <th>4</th>\n",
       "      <td>4</td>\n",
       "      <td>Economist/YouGovYouGov</td>\n",
       "      <td>2016/11/4 - 11/7</td>\n",
       "      <td>3669 LV</td>\n",
       "      <td>--</td>\n",
       "      <td>49.0</td>\n",
       "      <td>45.0</td>\n",
       "      <td>Clinton +4</td>\n",
       "    </tr>\n",
       "    <tr>\n",
       "      <th>...</th>\n",
       "      <td>...</td>\n",
       "      <td>...</td>\n",
       "      <td>...</td>\n",
       "      <td>...</td>\n",
       "      <td>...</td>\n",
       "      <td>...</td>\n",
       "      <td>...</td>\n",
       "      <td>...</td>\n",
       "    </tr>\n",
       "    <tr>\n",
       "      <th>256</th>\n",
       "      <td>256</td>\n",
       "      <td>PPP (D)PPP (D)</td>\n",
       "      <td>2015/7/20 - 7/21</td>\n",
       "      <td>1087 RV</td>\n",
       "      <td>3.0</td>\n",
       "      <td>50.0</td>\n",
       "      <td>37.0</td>\n",
       "      <td>Clinton +13</td>\n",
       "    </tr>\n",
       "    <tr>\n",
       "      <th>257</th>\n",
       "      <td>257</td>\n",
       "      <td>USA Today/SuffolkUSA Today</td>\n",
       "      <td>2015/7/9 - 7/12</td>\n",
       "      <td>1000 LV</td>\n",
       "      <td>3.0</td>\n",
       "      <td>51.0</td>\n",
       "      <td>34.0</td>\n",
       "      <td>Clinton +17</td>\n",
       "    </tr>\n",
       "    <tr>\n",
       "      <th>258</th>\n",
       "      <td>258</td>\n",
       "      <td>CNN/Opinion ResearchCNN/ORC</td>\n",
       "      <td>2015/6/26 - 6/28</td>\n",
       "      <td>890 RV</td>\n",
       "      <td>3.5</td>\n",
       "      <td>59.0</td>\n",
       "      <td>35.0</td>\n",
       "      <td>Clinton +24</td>\n",
       "    </tr>\n",
       "    <tr>\n",
       "      <th>259</th>\n",
       "      <td>259</td>\n",
       "      <td>FOX NewsFOX News</td>\n",
       "      <td>2015/6/21 - 6/23</td>\n",
       "      <td>1005 RV</td>\n",
       "      <td>3.0</td>\n",
       "      <td>51.0</td>\n",
       "      <td>34.0</td>\n",
       "      <td>Clinton +17</td>\n",
       "    </tr>\n",
       "    <tr>\n",
       "      <th>260</th>\n",
       "      <td>260</td>\n",
       "      <td>QuinnipiacQuinnipiac</td>\n",
       "      <td>2015/5/19 - 5/26</td>\n",
       "      <td>1711 RV</td>\n",
       "      <td>2.4</td>\n",
       "      <td>50.0</td>\n",
       "      <td>32.0</td>\n",
       "      <td>Clinton +18</td>\n",
       "    </tr>\n",
       "  </tbody>\n",
       "</table>\n",
       "<p>261 rows × 8 columns</p>\n",
       "</div>"
      ],
      "text/plain": [
       "     Unnamed: 0                                Poll              Date  \\\n",
       "0             0                       Final Results           2016/--   \n",
       "1             1                         RCP Average  2016/11/1 - 11/7   \n",
       "2             2                  BloombergBloomberg  2016/11/4 - 11/6   \n",
       "3             3  IBD/TIPP TrackingIBD/TIPP Tracking  2016/11/4 - 11/7   \n",
       "4             4              Economist/YouGovYouGov  2016/11/4 - 11/7   \n",
       "..          ...                                 ...               ...   \n",
       "256         256                      PPP (D)PPP (D)  2015/7/20 - 7/21   \n",
       "257         257          USA Today/SuffolkUSA Today   2015/7/9 - 7/12   \n",
       "258         258         CNN/Opinion ResearchCNN/ORC  2015/6/26 - 6/28   \n",
       "259         259                    FOX NewsFOX News  2015/6/21 - 6/23   \n",
       "260         260                QuinnipiacQuinnipiac  2015/5/19 - 5/26   \n",
       "\n",
       "      Sample  MoE  Clinton (D)  Trump (R)        Spread  \n",
       "0         --   --         48.2       46.1  Clinton +2.1  \n",
       "1         --   --         46.8       43.6  Clinton +3.2  \n",
       "2     799 LV  3.5         46.0       43.0    Clinton +3  \n",
       "3    1107 LV  3.1         43.0       42.0    Clinton +1  \n",
       "4    3669 LV   --         49.0       45.0    Clinton +4  \n",
       "..       ...  ...          ...        ...           ...  \n",
       "256  1087 RV  3.0         50.0       37.0   Clinton +13  \n",
       "257  1000 LV  3.0         51.0       34.0   Clinton +17  \n",
       "258   890 RV  3.5         59.0       35.0   Clinton +24  \n",
       "259  1005 RV  3.0         51.0       34.0   Clinton +17  \n",
       "260  1711 RV  2.4         50.0       32.0   Clinton +18  \n",
       "\n",
       "[261 rows x 8 columns]"
      ]
     },
     "execution_count": 88,
     "metadata": {},
     "output_type": "execute_result"
    }
   ],
   "source": [
    "#seperate the year 2016 and 2015:\n",
    "df_tab_2016[df_tab_2016[\"Date\"]=='12/22 - 12/23'] #index : 223\n",
    "temp1 = df_tab_2016.iloc[:223]\n",
    "temp1['Date']='2016/'+temp1[\"Date\"]\n",
    "temp2 = df_tab_2016.iloc[223:]\n",
    "temp2['Date']='2015/'+temp2[\"Date\"]\n",
    "df_tab_2016 = pd.concat([temp1,temp2])\n",
    "df_tab_2016"
   ]
  },
  {
   "cell_type": "markdown",
   "metadata": {},
   "source": [
    "### - Plot the timeline of the polls in 2016 and 2020"
   ]
  },
  {
   "cell_type": "code",
   "execution_count": 89,
   "metadata": {},
   "outputs": [],
   "source": [
    "df_tab_2016[\"Date\"] = (df_tab_2016[\"Date\"].str.split(\"-\")).str[0]\n"
   ]
  },
  {
   "cell_type": "code",
   "execution_count": 90,
   "metadata": {},
   "outputs": [
    {
     "data": {
      "text/html": [
       "<div>\n",
       "<style scoped>\n",
       "    .dataframe tbody tr th:only-of-type {\n",
       "        vertical-align: middle;\n",
       "    }\n",
       "\n",
       "    .dataframe tbody tr th {\n",
       "        vertical-align: top;\n",
       "    }\n",
       "\n",
       "    .dataframe thead th {\n",
       "        text-align: right;\n",
       "    }\n",
       "</style>\n",
       "<table border=\"1\" class=\"dataframe\">\n",
       "  <thead>\n",
       "    <tr style=\"text-align: right;\">\n",
       "      <th></th>\n",
       "      <th>Unnamed: 0</th>\n",
       "      <th>Poll</th>\n",
       "      <th>Date</th>\n",
       "      <th>Sample</th>\n",
       "      <th>MoE</th>\n",
       "      <th>Clinton (D)</th>\n",
       "      <th>Trump (R)</th>\n",
       "      <th>Spread</th>\n",
       "    </tr>\n",
       "  </thead>\n",
       "  <tbody>\n",
       "    <tr>\n",
       "      <th>1</th>\n",
       "      <td>1</td>\n",
       "      <td>RCP Average</td>\n",
       "      <td>2016/11/1</td>\n",
       "      <td>--</td>\n",
       "      <td>--</td>\n",
       "      <td>46.8</td>\n",
       "      <td>43.6</td>\n",
       "      <td>Clinton +3.2</td>\n",
       "    </tr>\n",
       "    <tr>\n",
       "      <th>2</th>\n",
       "      <td>2</td>\n",
       "      <td>BloombergBloomberg</td>\n",
       "      <td>2016/11/4</td>\n",
       "      <td>799 LV</td>\n",
       "      <td>3.5</td>\n",
       "      <td>46.0</td>\n",
       "      <td>43.0</td>\n",
       "      <td>Clinton +3</td>\n",
       "    </tr>\n",
       "    <tr>\n",
       "      <th>3</th>\n",
       "      <td>3</td>\n",
       "      <td>IBD/TIPP TrackingIBD/TIPP Tracking</td>\n",
       "      <td>2016/11/4</td>\n",
       "      <td>1107 LV</td>\n",
       "      <td>3.1</td>\n",
       "      <td>43.0</td>\n",
       "      <td>42.0</td>\n",
       "      <td>Clinton +1</td>\n",
       "    </tr>\n",
       "    <tr>\n",
       "      <th>4</th>\n",
       "      <td>4</td>\n",
       "      <td>Economist/YouGovYouGov</td>\n",
       "      <td>2016/11/4</td>\n",
       "      <td>3669 LV</td>\n",
       "      <td>--</td>\n",
       "      <td>49.0</td>\n",
       "      <td>45.0</td>\n",
       "      <td>Clinton +4</td>\n",
       "    </tr>\n",
       "    <tr>\n",
       "      <th>5</th>\n",
       "      <td>5</td>\n",
       "      <td>LA Times/USC TrackingLA Times</td>\n",
       "      <td>2016/11/1</td>\n",
       "      <td>2935 LV</td>\n",
       "      <td>4.5</td>\n",
       "      <td>44.0</td>\n",
       "      <td>47.0</td>\n",
       "      <td>Trump +3</td>\n",
       "    </tr>\n",
       "    <tr>\n",
       "      <th>...</th>\n",
       "      <td>...</td>\n",
       "      <td>...</td>\n",
       "      <td>...</td>\n",
       "      <td>...</td>\n",
       "      <td>...</td>\n",
       "      <td>...</td>\n",
       "      <td>...</td>\n",
       "      <td>...</td>\n",
       "    </tr>\n",
       "    <tr>\n",
       "      <th>256</th>\n",
       "      <td>256</td>\n",
       "      <td>PPP (D)PPP (D)</td>\n",
       "      <td>2015/7/20</td>\n",
       "      <td>1087 RV</td>\n",
       "      <td>3.0</td>\n",
       "      <td>50.0</td>\n",
       "      <td>37.0</td>\n",
       "      <td>Clinton +13</td>\n",
       "    </tr>\n",
       "    <tr>\n",
       "      <th>257</th>\n",
       "      <td>257</td>\n",
       "      <td>USA Today/SuffolkUSA Today</td>\n",
       "      <td>2015/7/9</td>\n",
       "      <td>1000 LV</td>\n",
       "      <td>3.0</td>\n",
       "      <td>51.0</td>\n",
       "      <td>34.0</td>\n",
       "      <td>Clinton +17</td>\n",
       "    </tr>\n",
       "    <tr>\n",
       "      <th>258</th>\n",
       "      <td>258</td>\n",
       "      <td>CNN/Opinion ResearchCNN/ORC</td>\n",
       "      <td>2015/6/26</td>\n",
       "      <td>890 RV</td>\n",
       "      <td>3.5</td>\n",
       "      <td>59.0</td>\n",
       "      <td>35.0</td>\n",
       "      <td>Clinton +24</td>\n",
       "    </tr>\n",
       "    <tr>\n",
       "      <th>259</th>\n",
       "      <td>259</td>\n",
       "      <td>FOX NewsFOX News</td>\n",
       "      <td>2015/6/21</td>\n",
       "      <td>1005 RV</td>\n",
       "      <td>3.0</td>\n",
       "      <td>51.0</td>\n",
       "      <td>34.0</td>\n",
       "      <td>Clinton +17</td>\n",
       "    </tr>\n",
       "    <tr>\n",
       "      <th>260</th>\n",
       "      <td>260</td>\n",
       "      <td>QuinnipiacQuinnipiac</td>\n",
       "      <td>2015/5/19</td>\n",
       "      <td>1711 RV</td>\n",
       "      <td>2.4</td>\n",
       "      <td>50.0</td>\n",
       "      <td>32.0</td>\n",
       "      <td>Clinton +18</td>\n",
       "    </tr>\n",
       "  </tbody>\n",
       "</table>\n",
       "<p>260 rows × 8 columns</p>\n",
       "</div>"
      ],
      "text/plain": [
       "     Unnamed: 0                                Poll        Date   Sample  MoE  \\\n",
       "1             1                         RCP Average  2016/11/1        --   --   \n",
       "2             2                  BloombergBloomberg  2016/11/4    799 LV  3.5   \n",
       "3             3  IBD/TIPP TrackingIBD/TIPP Tracking  2016/11/4   1107 LV  3.1   \n",
       "4             4              Economist/YouGovYouGov  2016/11/4   3669 LV   --   \n",
       "5             5       LA Times/USC TrackingLA Times  2016/11/1   2935 LV  4.5   \n",
       "..          ...                                 ...         ...      ...  ...   \n",
       "256         256                      PPP (D)PPP (D)  2015/7/20   1087 RV  3.0   \n",
       "257         257          USA Today/SuffolkUSA Today   2015/7/9   1000 LV  3.0   \n",
       "258         258         CNN/Opinion ResearchCNN/ORC  2015/6/26    890 RV  3.5   \n",
       "259         259                    FOX NewsFOX News  2015/6/21   1005 RV  3.0   \n",
       "260         260                QuinnipiacQuinnipiac  2015/5/19   1711 RV  2.4   \n",
       "\n",
       "     Clinton (D)  Trump (R)        Spread  \n",
       "1           46.8       43.6  Clinton +3.2  \n",
       "2           46.0       43.0    Clinton +3  \n",
       "3           43.0       42.0    Clinton +1  \n",
       "4           49.0       45.0    Clinton +4  \n",
       "5           44.0       47.0      Trump +3  \n",
       "..           ...        ...           ...  \n",
       "256         50.0       37.0   Clinton +13  \n",
       "257         51.0       34.0   Clinton +17  \n",
       "258         59.0       35.0   Clinton +24  \n",
       "259         51.0       34.0   Clinton +17  \n",
       "260         50.0       32.0   Clinton +18  \n",
       "\n",
       "[260 rows x 8 columns]"
      ]
     },
     "execution_count": 90,
     "metadata": {},
     "output_type": "execute_result"
    }
   ],
   "source": [
    "df_tab_2016 = df_tab_2016.iloc[1:]\n",
    "df_tab_2016"
   ]
  },
  {
   "cell_type": "code",
   "execution_count": 99,
   "metadata": {},
   "outputs": [
    {
     "data": {
      "application/vnd.plotly.v1+json": {
       "config": {
        "plotlyServerURL": "https://plot.ly"
       },
       "data": [
        {
         "hovertemplate": "variable=Clinton (D)<br>Date=%{x}<br>value=%{y}<extra></extra>",
         "legendgroup": "Clinton (D)",
         "line": {
          "color": "#636efa",
          "dash": "solid"
         },
         "marker": {
          "symbol": "circle"
         },
         "mode": "lines",
         "name": "Clinton (D)",
         "orientation": "v",
         "showlegend": true,
         "type": "scatter",
         "x": [
          "2016/11/1 ",
          "2016/11/4 ",
          "2016/11/4 ",
          "2016/11/4 ",
          "2016/11/1 ",
          "2016/11/3 ",
          "2016/11/3 ",
          "2016/11/3 ",
          "2016/11/3 ",
          "2016/11/2 ",
          "2016/11/2 ",
          "2016/11/1 ",
          "2016/11/1 ",
          "2016/10/31 ",
          "2016/10/31 ",
          "2016/10/31 ",
          "2016/10/30 ",
          "2016/10/30 ",
          "2016/10/29 ",
          "2016/10/28 ",
          "2016/10/27 ",
          "2016/10/25 ",
          "2016/10/25 ",
          "2016/10/24 ",
          "2016/10/22 ",
          "2016/10/23 ",
          "2016/10/22 ",
          "2016/10/22 ",
          "2016/10/20 ",
          "2016/10/20 ",
          "2016/10/21 ",
          "2016/10/21 ",
          "2016/10/19 ",
          "2016/10/20 ",
          "2016/10/20 ",
          "2016/10/20 ",
          "2016/10/20 ",
          "2016/10/20 ",
          "2016/10/20 ",
          "2016/10/17 ",
          "2016/10/17 ",
          "2016/10/15 ",
          "2016/10/15 ",
          "2016/10/14 ",
          "2016/10/13 ",
          "2016/10/14 ",
          "2016/10/12 ",
          "2016/10/10 ",
          "2016/10/10 ",
          "2016/10/10 ",
          "2016/10/9 ",
          "2016/10/10 ",
          "2016/10/8 ",
          "2016/10/6 ",
          "2016/10/8 ",
          "2016/10/7 ",
          "2016/10/5 ",
          "2016/10/4 ",
          "2016/10/3 ",
          "2016/10/5 ",
          "2016/10/3 ",
          "2016/10/1 ",
          "2016/9/29 ",
          "2016/9/28 ",
          "2016/9/28 ",
          "2016/9/28 ",
          "2016/9/27 ",
          "2016/9/27 ",
          "2016/9/26 ",
          "2016/9/27 ",
          "2016/9/27 ",
          "2016/9/22 ",
          "2016/9/22 ",
          "2016/9/21 ",
          "2016/9/22 ",
          "2016/9/22 ",
          "2016/9/20 ",
          "2016/9/19 ",
          "2016/9/19 ",
          "2016/9/18 ",
          "2016/9/15 ",
          "2016/9/15 ",
          "2016/9/16 ",
          "2016/9/15 ",
          "2016/9/13 ",
          "2016/9/12 ",
          "2016/9/11 ",
          "2016/9/9 ",
          "2016/9/10 ",
          "2016/9/8 ",
          "2016/9/8 ",
          "2016/9/5 ",
          "2016/9/5 ",
          "2016/9/5 ",
          "2016/9/4 ",
          "2016/9/1 ",
          "2016/9/1 ",
          "2016/8/29 ",
          "2016/8/26 ",
          "2016/8/28 ",
          "2016/8/26 ",
          "2016/8/27 ",
          "2016/8/25 ",
          "2016/8/25 ",
          "2016/8/24 ",
          "2016/8/22 ",
          "2016/8/22 ",
          "2016/8/20 ",
          "2016/8/19 ",
          "2016/8/18 ",
          "2016/8/15 ",
          "2016/8/13 ",
          "2016/8/14 ",
          "2016/8/15 ",
          "2016/8/8 ",
          "2016/8/6 ",
          "2016/8/6 ",
          "2016/8/6 ",
          "2016/8/5 ",
          "2016/8/1 ",
          "2016/7/30 ",
          "2016/7/29 ",
          "2016/8/1 ",
          "2016/7/31 ",
          "2016/8/1 ",
          "2016/7/31 ",
          "2016/7/30 ",
          "2016/7/29 ",
          "2016/7/30 ",
          "2016/7/29 ",
          "2016/7/25 ",
          "2016/7/29 ",
          "2016/7/25 ",
          "2016/7/26 ",
          "2016/7/23 ",
          "2016/7/22 ",
          "2016/7/20 ",
          "2016/7/22 ",
          "2016/7/18 ",
          "2016/7/21 ",
          "2016/7/18 ",
          "2016/7/16 ",
          "2016/7/15 ",
          "2016/7/11 ",
          "2016/7/13 ",
          "2016/7/11 ",
          "2016/7/12 ",
          "2016/7/9 ",
          "2016/7/8 ",
          "2016/7/9 ",
          "2016/7/5 ",
          "2016/7/5 ",
          "2016/7/2 ",
          "2016/7/2 ",
          "2016/6/28 ",
          "2016/6/26 ",
          "2016/6/27 ",
          "2016/6/27 ",
          "2016/6/26 ",
          "2016/6/25 ",
          "2016/6/24 ",
          "2016/6/24 ",
          "2016/6/21 ",
          "2016/6/15 ",
          "2016/6/20 ",
          "2016/6/19 ",
          "2016/6/20 ",
          "2016/6/18 ",
          "2016/6/18 ",
          "2016/6/16 ",
          "2016/6/15 ",
          "2016/6/16 ",
          "2016/6/14 ",
          "2016/6/11 ",
          "2016/6/11 ",
          "2016/6/10 ",
          "2016/6/9 ",
          "2016/6/5 ",
          "2016/6/6 ",
          "2016/6/4 ",
          "2016/6/2 ",
          "2016/5/31 ",
          "2016/5/31 ",
          "2016/5/24 ",
          "2016/5/23 ",
          "2016/5/16 ",
          "2016/8/14 ",
          "2016/5/15 ",
          "2016/5/17 ",
          "2016/5/14 ",
          "2016/5/13 ",
          "2016/5/10 ",
          "2016/5/6 ",
          "2016/4/28 ",
          "2016/4/27 ",
          "2016/4/22 ",
          "2016/4/25 ",
          "2016/4/20 ",
          "2016/4/17 ",
          "2016/4/11 ",
          "2016/4/10 ",
          "2016/4/8 ",
          "2016/3/29 ",
          "2016/3/28 ",
          "2016/3/24 ",
          "2016/3/20 ",
          "2016/3/19 ",
          "2016/3/16 ",
          "2016/3/17 ",
          "2016/3/17 ",
          "2016/3/17 ",
          "2016/3/3 ",
          "2016/3/3 ",
          "2016/2/29 ",
          "2016/2/24 ",
          "2016/2/15 ",
          "2016/2/11 ",
          "2016/2/10 ",
          "2016/2/2 ",
          "2016/2/2 ",
          "2016/1/9 ",
          "2016/1/4 ",
          "2015/12/22 ",
          "2015/12/17 ",
          "2015/12/16 ",
          "2015/12/16 ",
          "2015/12/16 ",
          "2015/12/10 ",
          "2015/12/6 ",
          "2015/12/2 ",
          "2015/11/27 ",
          "2015/11/23 ",
          "2015/11/15 ",
          "2015/11/16 ",
          "2015/11/16 ",
          "2015/10/29 ",
          "2015/10/29 ",
          "2015/10/25 ",
          "2015/10/14 ",
          "2015/10/10 ",
          "2015/10/1 ",
          "2015/9/20 ",
          "2015/9/20 ",
          "2015/9/17 ",
          "2015/9/7 ",
          "2015/9/4 ",
          "2015/8/26 ",
          "2015/9/2 ",
          "2015/8/28 ",
          "2015/8/20 ",
          "2015/8/13 ",
          "2015/8/11 ",
          "2015/7/23 ",
          "2015/7/22 ",
          "2015/7/22 ",
          "2015/7/20 ",
          "2015/7/9 ",
          "2015/6/26 ",
          "2015/6/21 ",
          "2015/5/19 "
         ],
         "xaxis": "x",
         "y": [
          46.8,
          46,
          43,
          49,
          44,
          49,
          48,
          50,
          48,
          47,
          44,
          46,
          46,
          51,
          44,
          50,
          44,
          48,
          45,
          47,
          48,
          43,
          45,
          51,
          44,
          50,
          49,
          49,
          43,
          50,
          51,
          47,
          44,
          49,
          54,
          43,
          53,
          50,
          51,
          50,
          50,
          47,
          49,
          50,
          43,
          53,
          51,
          51,
          50,
          51,
          44,
          49,
          50,
          44,
          52,
          48,
          49,
          43,
          51,
          50,
          48,
          48,
          44,
          47,
          49,
          51,
          43,
          49,
          50,
          49,
          50,
          44,
          47,
          46,
          49,
          48,
          43,
          51,
          49,
          45,
          39,
          48,
          48,
          50,
          42,
          50,
          45,
          46,
          46,
          48,
          40,
          44,
          48,
          51,
          44,
          40,
          48,
          48,
          44,
          48,
          48,
          47,
          40,
          49,
          48,
          48,
          44,
          42,
          47,
          51,
          50,
          41,
          47,
          54,
          50,
          46,
          42,
          48,
          50,
          50,
          45,
          46,
          48,
          47,
          51,
          49,
          46,
          47,
          43,
          52,
          50,
          50,
          40,
          43,
          47,
          45,
          40,
          43,
          46,
          49,
          42,
          40,
          45,
          46,
          49,
          47,
          37,
          46,
          40,
          45,
          42,
          40,
          44,
          47,
          39,
          46,
          48,
          50,
          44,
          42,
          44,
          42,
          42,
          51,
          51,
          46,
          44,
          44,
          43,
          47,
          49,
          51,
          44,
          41,
          40,
          49,
          43,
          42,
          42,
          42,
          44,
          45,
          39,
          45,
          40,
          44,
          43,
          46,
          37,
          42,
          47,
          50,
          47,
          54,
          39,
          47,
          38,
          50,
          46,
          48,
          50,
          50,
          50,
          47,
          48,
          49,
          54,
          46,
          50,
          53,
          48,
          50,
          51,
          41,
          52,
          47,
          43,
          44,
          46,
          47,
          51,
          44,
          37,
          49,
          47,
          49,
          46,
          50,
          50,
          48,
          49,
          47,
          52,
          41,
          45,
          56,
          46,
          50,
          50,
          40,
          44,
          49,
          46,
          45,
          46,
          48,
          53,
          40,
          46,
          45,
          51,
          47,
          48,
          54,
          56,
          50,
          51,
          59,
          51,
          50
         ],
         "yaxis": "y"
        },
        {
         "hovertemplate": "variable=Trump (R)<br>Date=%{x}<br>value=%{y}<extra></extra>",
         "legendgroup": "Trump (R)",
         "line": {
          "color": "#EF553B",
          "dash": "solid"
         },
         "marker": {
          "symbol": "circle"
         },
         "mode": "lines",
         "name": "Trump (R)",
         "orientation": "v",
         "showlegend": true,
         "type": "scatter",
         "x": [
          "2016/11/1 ",
          "2016/11/4 ",
          "2016/11/4 ",
          "2016/11/4 ",
          "2016/11/1 ",
          "2016/11/3 ",
          "2016/11/3 ",
          "2016/11/3 ",
          "2016/11/3 ",
          "2016/11/2 ",
          "2016/11/2 ",
          "2016/11/1 ",
          "2016/11/1 ",
          "2016/10/31 ",
          "2016/10/31 ",
          "2016/10/31 ",
          "2016/10/30 ",
          "2016/10/30 ",
          "2016/10/29 ",
          "2016/10/28 ",
          "2016/10/27 ",
          "2016/10/25 ",
          "2016/10/25 ",
          "2016/10/24 ",
          "2016/10/22 ",
          "2016/10/23 ",
          "2016/10/22 ",
          "2016/10/22 ",
          "2016/10/20 ",
          "2016/10/20 ",
          "2016/10/21 ",
          "2016/10/21 ",
          "2016/10/19 ",
          "2016/10/20 ",
          "2016/10/20 ",
          "2016/10/20 ",
          "2016/10/20 ",
          "2016/10/20 ",
          "2016/10/20 ",
          "2016/10/17 ",
          "2016/10/17 ",
          "2016/10/15 ",
          "2016/10/15 ",
          "2016/10/14 ",
          "2016/10/13 ",
          "2016/10/14 ",
          "2016/10/12 ",
          "2016/10/10 ",
          "2016/10/10 ",
          "2016/10/10 ",
          "2016/10/9 ",
          "2016/10/10 ",
          "2016/10/8 ",
          "2016/10/6 ",
          "2016/10/8 ",
          "2016/10/7 ",
          "2016/10/5 ",
          "2016/10/4 ",
          "2016/10/3 ",
          "2016/10/5 ",
          "2016/10/3 ",
          "2016/10/1 ",
          "2016/9/29 ",
          "2016/9/28 ",
          "2016/9/28 ",
          "2016/9/28 ",
          "2016/9/27 ",
          "2016/9/27 ",
          "2016/9/26 ",
          "2016/9/27 ",
          "2016/9/27 ",
          "2016/9/22 ",
          "2016/9/22 ",
          "2016/9/21 ",
          "2016/9/22 ",
          "2016/9/22 ",
          "2016/9/20 ",
          "2016/9/19 ",
          "2016/9/19 ",
          "2016/9/18 ",
          "2016/9/15 ",
          "2016/9/15 ",
          "2016/9/16 ",
          "2016/9/15 ",
          "2016/9/13 ",
          "2016/9/12 ",
          "2016/9/11 ",
          "2016/9/9 ",
          "2016/9/10 ",
          "2016/9/8 ",
          "2016/9/8 ",
          "2016/9/5 ",
          "2016/9/5 ",
          "2016/9/5 ",
          "2016/9/4 ",
          "2016/9/1 ",
          "2016/9/1 ",
          "2016/8/29 ",
          "2016/8/26 ",
          "2016/8/28 ",
          "2016/8/26 ",
          "2016/8/27 ",
          "2016/8/25 ",
          "2016/8/25 ",
          "2016/8/24 ",
          "2016/8/22 ",
          "2016/8/22 ",
          "2016/8/20 ",
          "2016/8/19 ",
          "2016/8/18 ",
          "2016/8/15 ",
          "2016/8/13 ",
          "2016/8/14 ",
          "2016/8/15 ",
          "2016/8/8 ",
          "2016/8/6 ",
          "2016/8/6 ",
          "2016/8/6 ",
          "2016/8/5 ",
          "2016/8/1 ",
          "2016/7/30 ",
          "2016/7/29 ",
          "2016/8/1 ",
          "2016/7/31 ",
          "2016/8/1 ",
          "2016/7/31 ",
          "2016/7/30 ",
          "2016/7/29 ",
          "2016/7/30 ",
          "2016/7/29 ",
          "2016/7/25 ",
          "2016/7/29 ",
          "2016/7/25 ",
          "2016/7/26 ",
          "2016/7/23 ",
          "2016/7/22 ",
          "2016/7/20 ",
          "2016/7/22 ",
          "2016/7/18 ",
          "2016/7/21 ",
          "2016/7/18 ",
          "2016/7/16 ",
          "2016/7/15 ",
          "2016/7/11 ",
          "2016/7/13 ",
          "2016/7/11 ",
          "2016/7/12 ",
          "2016/7/9 ",
          "2016/7/8 ",
          "2016/7/9 ",
          "2016/7/5 ",
          "2016/7/5 ",
          "2016/7/2 ",
          "2016/7/2 ",
          "2016/6/28 ",
          "2016/6/26 ",
          "2016/6/27 ",
          "2016/6/27 ",
          "2016/6/26 ",
          "2016/6/25 ",
          "2016/6/24 ",
          "2016/6/24 ",
          "2016/6/21 ",
          "2016/6/15 ",
          "2016/6/20 ",
          "2016/6/19 ",
          "2016/6/20 ",
          "2016/6/18 ",
          "2016/6/18 ",
          "2016/6/16 ",
          "2016/6/15 ",
          "2016/6/16 ",
          "2016/6/14 ",
          "2016/6/11 ",
          "2016/6/11 ",
          "2016/6/10 ",
          "2016/6/9 ",
          "2016/6/5 ",
          "2016/6/6 ",
          "2016/6/4 ",
          "2016/6/2 ",
          "2016/5/31 ",
          "2016/5/31 ",
          "2016/5/24 ",
          "2016/5/23 ",
          "2016/5/16 ",
          "2016/8/14 ",
          "2016/5/15 ",
          "2016/5/17 ",
          "2016/5/14 ",
          "2016/5/13 ",
          "2016/5/10 ",
          "2016/5/6 ",
          "2016/4/28 ",
          "2016/4/27 ",
          "2016/4/22 ",
          "2016/4/25 ",
          "2016/4/20 ",
          "2016/4/17 ",
          "2016/4/11 ",
          "2016/4/10 ",
          "2016/4/8 ",
          "2016/3/29 ",
          "2016/3/28 ",
          "2016/3/24 ",
          "2016/3/20 ",
          "2016/3/19 ",
          "2016/3/16 ",
          "2016/3/17 ",
          "2016/3/17 ",
          "2016/3/17 ",
          "2016/3/3 ",
          "2016/3/3 ",
          "2016/2/29 ",
          "2016/2/24 ",
          "2016/2/15 ",
          "2016/2/11 ",
          "2016/2/10 ",
          "2016/2/2 ",
          "2016/2/2 ",
          "2016/1/9 ",
          "2016/1/4 ",
          "2015/12/22 ",
          "2015/12/17 ",
          "2015/12/16 ",
          "2015/12/16 ",
          "2015/12/16 ",
          "2015/12/10 ",
          "2015/12/6 ",
          "2015/12/2 ",
          "2015/11/27 ",
          "2015/11/23 ",
          "2015/11/15 ",
          "2015/11/16 ",
          "2015/11/16 ",
          "2015/10/29 ",
          "2015/10/29 ",
          "2015/10/25 ",
          "2015/10/14 ",
          "2015/10/10 ",
          "2015/10/1 ",
          "2015/9/20 ",
          "2015/9/20 ",
          "2015/9/17 ",
          "2015/9/7 ",
          "2015/9/4 ",
          "2015/8/26 ",
          "2015/9/2 ",
          "2015/8/28 ",
          "2015/8/20 ",
          "2015/8/13 ",
          "2015/8/11 ",
          "2015/7/23 ",
          "2015/7/22 ",
          "2015/7/22 ",
          "2015/7/20 ",
          "2015/7/9 ",
          "2015/6/26 ",
          "2015/6/21 ",
          "2015/5/19 "
         ],
         "xaxis": "x",
         "y": [
          43.6,
          43,
          42,
          45,
          47,
          46,
          44,
          44,
          43,
          43,
          39,
          44,
          45,
          44,
          40,
          50,
          39,
          45,
          39,
          44,
          47,
          47,
          43,
          44,
          46,
          45,
          46,
          44,
          41,
          43,
          43,
          37,
          45,
          39,
          41,
          37,
          41,
          50,
          45,
          44,
          44,
          43,
          42,
          41,
          39,
          41,
          40,
          43,
          46,
          41,
          45,
          41,
          40,
          37,
          38,
          43,
          38,
          45,
          44,
          44,
          44,
          43,
          37,
          41,
          43,
          45,
          47,
          44,
          44,
          45,
          50,
          38,
          46,
          46,
          46,
          44,
          46,
          44,
          47,
          44,
          39,
          41,
          41,
          44,
          47,
          45,
          46,
          44,
          44,
          43,
          39,
          44,
          44,
          43,
          42,
          38,
          49,
          42,
          43,
          42,
          43,
          42,
          39,
          42,
          41,
          42,
          44,
          35,
          44,
          41,
          42,
          36,
          41,
          46,
          41,
          42,
          36,
          41,
          44,
          42,
          44,
          39,
          33,
          38,
          41,
          39,
          43,
          41,
          39,
          43,
          42,
          45,
          35,
          42,
          42,
          48,
          47,
          44,
          45,
          51,
          43,
          36,
          41,
          45,
          42,
          43,
          44,
          41,
          40,
          43,
          39,
          42,
          33,
          42,
          43,
          40,
          44,
          48,
          38,
          32,
          40,
          38,
          40,
          42,
          39,
          41,
          39,
          34,
          39,
          42,
          41,
          47,
          39,
          32,
          35,
          37,
          37,
          39,
          38,
          34,
          41,
          40,
          38,
          41,
          39,
          46,
          45,
          43,
          42,
          45,
          41,
          48,
          41,
          41,
          41,
          40,
          38,
          39,
          43,
          41,
          39,
          40,
          41,
          35,
          41,
          38,
          36,
          40,
          40,
          41,
          38,
          41,
          38,
          36,
          44,
          42,
          45,
          43,
          41,
          40,
          41,
          47,
          36,
          47,
          40,
          38,
          43,
          44,
          40,
          44,
          46,
          41,
          41,
          46,
          44,
          41,
          43,
          42,
          45,
          45,
          44,
          39,
          42,
          43,
          43,
          48,
          40,
          45,
          44,
          41,
          45,
          42,
          36,
          38,
          40,
          37,
          34,
          35,
          34,
          32
         ],
         "yaxis": "y"
        }
       ],
       "layout": {
        "legend": {
         "title": {
          "text": "variable"
         },
         "tracegroupgap": 0
        },
        "template": {
         "data": {
          "bar": [
           {
            "error_x": {
             "color": "#2a3f5f"
            },
            "error_y": {
             "color": "#2a3f5f"
            },
            "marker": {
             "line": {
              "color": "#E5ECF6",
              "width": 0.5
             },
             "pattern": {
              "fillmode": "overlay",
              "size": 10,
              "solidity": 0.2
             }
            },
            "type": "bar"
           }
          ],
          "barpolar": [
           {
            "marker": {
             "line": {
              "color": "#E5ECF6",
              "width": 0.5
             },
             "pattern": {
              "fillmode": "overlay",
              "size": 10,
              "solidity": 0.2
             }
            },
            "type": "barpolar"
           }
          ],
          "carpet": [
           {
            "aaxis": {
             "endlinecolor": "#2a3f5f",
             "gridcolor": "white",
             "linecolor": "white",
             "minorgridcolor": "white",
             "startlinecolor": "#2a3f5f"
            },
            "baxis": {
             "endlinecolor": "#2a3f5f",
             "gridcolor": "white",
             "linecolor": "white",
             "minorgridcolor": "white",
             "startlinecolor": "#2a3f5f"
            },
            "type": "carpet"
           }
          ],
          "choropleth": [
           {
            "colorbar": {
             "outlinewidth": 0,
             "ticks": ""
            },
            "type": "choropleth"
           }
          ],
          "contour": [
           {
            "colorbar": {
             "outlinewidth": 0,
             "ticks": ""
            },
            "colorscale": [
             [
              0,
              "#0d0887"
             ],
             [
              0.1111111111111111,
              "#46039f"
             ],
             [
              0.2222222222222222,
              "#7201a8"
             ],
             [
              0.3333333333333333,
              "#9c179e"
             ],
             [
              0.4444444444444444,
              "#bd3786"
             ],
             [
              0.5555555555555556,
              "#d8576b"
             ],
             [
              0.6666666666666666,
              "#ed7953"
             ],
             [
              0.7777777777777778,
              "#fb9f3a"
             ],
             [
              0.8888888888888888,
              "#fdca26"
             ],
             [
              1,
              "#f0f921"
             ]
            ],
            "type": "contour"
           }
          ],
          "contourcarpet": [
           {
            "colorbar": {
             "outlinewidth": 0,
             "ticks": ""
            },
            "type": "contourcarpet"
           }
          ],
          "heatmap": [
           {
            "colorbar": {
             "outlinewidth": 0,
             "ticks": ""
            },
            "colorscale": [
             [
              0,
              "#0d0887"
             ],
             [
              0.1111111111111111,
              "#46039f"
             ],
             [
              0.2222222222222222,
              "#7201a8"
             ],
             [
              0.3333333333333333,
              "#9c179e"
             ],
             [
              0.4444444444444444,
              "#bd3786"
             ],
             [
              0.5555555555555556,
              "#d8576b"
             ],
             [
              0.6666666666666666,
              "#ed7953"
             ],
             [
              0.7777777777777778,
              "#fb9f3a"
             ],
             [
              0.8888888888888888,
              "#fdca26"
             ],
             [
              1,
              "#f0f921"
             ]
            ],
            "type": "heatmap"
           }
          ],
          "heatmapgl": [
           {
            "colorbar": {
             "outlinewidth": 0,
             "ticks": ""
            },
            "colorscale": [
             [
              0,
              "#0d0887"
             ],
             [
              0.1111111111111111,
              "#46039f"
             ],
             [
              0.2222222222222222,
              "#7201a8"
             ],
             [
              0.3333333333333333,
              "#9c179e"
             ],
             [
              0.4444444444444444,
              "#bd3786"
             ],
             [
              0.5555555555555556,
              "#d8576b"
             ],
             [
              0.6666666666666666,
              "#ed7953"
             ],
             [
              0.7777777777777778,
              "#fb9f3a"
             ],
             [
              0.8888888888888888,
              "#fdca26"
             ],
             [
              1,
              "#f0f921"
             ]
            ],
            "type": "heatmapgl"
           }
          ],
          "histogram": [
           {
            "marker": {
             "pattern": {
              "fillmode": "overlay",
              "size": 10,
              "solidity": 0.2
             }
            },
            "type": "histogram"
           }
          ],
          "histogram2d": [
           {
            "colorbar": {
             "outlinewidth": 0,
             "ticks": ""
            },
            "colorscale": [
             [
              0,
              "#0d0887"
             ],
             [
              0.1111111111111111,
              "#46039f"
             ],
             [
              0.2222222222222222,
              "#7201a8"
             ],
             [
              0.3333333333333333,
              "#9c179e"
             ],
             [
              0.4444444444444444,
              "#bd3786"
             ],
             [
              0.5555555555555556,
              "#d8576b"
             ],
             [
              0.6666666666666666,
              "#ed7953"
             ],
             [
              0.7777777777777778,
              "#fb9f3a"
             ],
             [
              0.8888888888888888,
              "#fdca26"
             ],
             [
              1,
              "#f0f921"
             ]
            ],
            "type": "histogram2d"
           }
          ],
          "histogram2dcontour": [
           {
            "colorbar": {
             "outlinewidth": 0,
             "ticks": ""
            },
            "colorscale": [
             [
              0,
              "#0d0887"
             ],
             [
              0.1111111111111111,
              "#46039f"
             ],
             [
              0.2222222222222222,
              "#7201a8"
             ],
             [
              0.3333333333333333,
              "#9c179e"
             ],
             [
              0.4444444444444444,
              "#bd3786"
             ],
             [
              0.5555555555555556,
              "#d8576b"
             ],
             [
              0.6666666666666666,
              "#ed7953"
             ],
             [
              0.7777777777777778,
              "#fb9f3a"
             ],
             [
              0.8888888888888888,
              "#fdca26"
             ],
             [
              1,
              "#f0f921"
             ]
            ],
            "type": "histogram2dcontour"
           }
          ],
          "mesh3d": [
           {
            "colorbar": {
             "outlinewidth": 0,
             "ticks": ""
            },
            "type": "mesh3d"
           }
          ],
          "parcoords": [
           {
            "line": {
             "colorbar": {
              "outlinewidth": 0,
              "ticks": ""
             }
            },
            "type": "parcoords"
           }
          ],
          "pie": [
           {
            "automargin": true,
            "type": "pie"
           }
          ],
          "scatter": [
           {
            "marker": {
             "colorbar": {
              "outlinewidth": 0,
              "ticks": ""
             }
            },
            "type": "scatter"
           }
          ],
          "scatter3d": [
           {
            "line": {
             "colorbar": {
              "outlinewidth": 0,
              "ticks": ""
             }
            },
            "marker": {
             "colorbar": {
              "outlinewidth": 0,
              "ticks": ""
             }
            },
            "type": "scatter3d"
           }
          ],
          "scattercarpet": [
           {
            "marker": {
             "colorbar": {
              "outlinewidth": 0,
              "ticks": ""
             }
            },
            "type": "scattercarpet"
           }
          ],
          "scattergeo": [
           {
            "marker": {
             "colorbar": {
              "outlinewidth": 0,
              "ticks": ""
             }
            },
            "type": "scattergeo"
           }
          ],
          "scattergl": [
           {
            "marker": {
             "colorbar": {
              "outlinewidth": 0,
              "ticks": ""
             }
            },
            "type": "scattergl"
           }
          ],
          "scattermapbox": [
           {
            "marker": {
             "colorbar": {
              "outlinewidth": 0,
              "ticks": ""
             }
            },
            "type": "scattermapbox"
           }
          ],
          "scatterpolar": [
           {
            "marker": {
             "colorbar": {
              "outlinewidth": 0,
              "ticks": ""
             }
            },
            "type": "scatterpolar"
           }
          ],
          "scatterpolargl": [
           {
            "marker": {
             "colorbar": {
              "outlinewidth": 0,
              "ticks": ""
             }
            },
            "type": "scatterpolargl"
           }
          ],
          "scatterternary": [
           {
            "marker": {
             "colorbar": {
              "outlinewidth": 0,
              "ticks": ""
             }
            },
            "type": "scatterternary"
           }
          ],
          "surface": [
           {
            "colorbar": {
             "outlinewidth": 0,
             "ticks": ""
            },
            "colorscale": [
             [
              0,
              "#0d0887"
             ],
             [
              0.1111111111111111,
              "#46039f"
             ],
             [
              0.2222222222222222,
              "#7201a8"
             ],
             [
              0.3333333333333333,
              "#9c179e"
             ],
             [
              0.4444444444444444,
              "#bd3786"
             ],
             [
              0.5555555555555556,
              "#d8576b"
             ],
             [
              0.6666666666666666,
              "#ed7953"
             ],
             [
              0.7777777777777778,
              "#fb9f3a"
             ],
             [
              0.8888888888888888,
              "#fdca26"
             ],
             [
              1,
              "#f0f921"
             ]
            ],
            "type": "surface"
           }
          ],
          "table": [
           {
            "cells": {
             "fill": {
              "color": "#EBF0F8"
             },
             "line": {
              "color": "white"
             }
            },
            "header": {
             "fill": {
              "color": "#C8D4E3"
             },
             "line": {
              "color": "white"
             }
            },
            "type": "table"
           }
          ]
         },
         "layout": {
          "annotationdefaults": {
           "arrowcolor": "#2a3f5f",
           "arrowhead": 0,
           "arrowwidth": 1
          },
          "autotypenumbers": "strict",
          "coloraxis": {
           "colorbar": {
            "outlinewidth": 0,
            "ticks": ""
           }
          },
          "colorscale": {
           "diverging": [
            [
             0,
             "#8e0152"
            ],
            [
             0.1,
             "#c51b7d"
            ],
            [
             0.2,
             "#de77ae"
            ],
            [
             0.3,
             "#f1b6da"
            ],
            [
             0.4,
             "#fde0ef"
            ],
            [
             0.5,
             "#f7f7f7"
            ],
            [
             0.6,
             "#e6f5d0"
            ],
            [
             0.7,
             "#b8e186"
            ],
            [
             0.8,
             "#7fbc41"
            ],
            [
             0.9,
             "#4d9221"
            ],
            [
             1,
             "#276419"
            ]
           ],
           "sequential": [
            [
             0,
             "#0d0887"
            ],
            [
             0.1111111111111111,
             "#46039f"
            ],
            [
             0.2222222222222222,
             "#7201a8"
            ],
            [
             0.3333333333333333,
             "#9c179e"
            ],
            [
             0.4444444444444444,
             "#bd3786"
            ],
            [
             0.5555555555555556,
             "#d8576b"
            ],
            [
             0.6666666666666666,
             "#ed7953"
            ],
            [
             0.7777777777777778,
             "#fb9f3a"
            ],
            [
             0.8888888888888888,
             "#fdca26"
            ],
            [
             1,
             "#f0f921"
            ]
           ],
           "sequentialminus": [
            [
             0,
             "#0d0887"
            ],
            [
             0.1111111111111111,
             "#46039f"
            ],
            [
             0.2222222222222222,
             "#7201a8"
            ],
            [
             0.3333333333333333,
             "#9c179e"
            ],
            [
             0.4444444444444444,
             "#bd3786"
            ],
            [
             0.5555555555555556,
             "#d8576b"
            ],
            [
             0.6666666666666666,
             "#ed7953"
            ],
            [
             0.7777777777777778,
             "#fb9f3a"
            ],
            [
             0.8888888888888888,
             "#fdca26"
            ],
            [
             1,
             "#f0f921"
            ]
           ]
          },
          "colorway": [
           "#636efa",
           "#EF553B",
           "#00cc96",
           "#ab63fa",
           "#FFA15A",
           "#19d3f3",
           "#FF6692",
           "#B6E880",
           "#FF97FF",
           "#FECB52"
          ],
          "font": {
           "color": "#2a3f5f"
          },
          "geo": {
           "bgcolor": "white",
           "lakecolor": "white",
           "landcolor": "#E5ECF6",
           "showlakes": true,
           "showland": true,
           "subunitcolor": "white"
          },
          "hoverlabel": {
           "align": "left"
          },
          "hovermode": "closest",
          "mapbox": {
           "style": "light"
          },
          "paper_bgcolor": "white",
          "plot_bgcolor": "#E5ECF6",
          "polar": {
           "angularaxis": {
            "gridcolor": "white",
            "linecolor": "white",
            "ticks": ""
           },
           "bgcolor": "#E5ECF6",
           "radialaxis": {
            "gridcolor": "white",
            "linecolor": "white",
            "ticks": ""
           }
          },
          "scene": {
           "xaxis": {
            "backgroundcolor": "#E5ECF6",
            "gridcolor": "white",
            "gridwidth": 2,
            "linecolor": "white",
            "showbackground": true,
            "ticks": "",
            "zerolinecolor": "white"
           },
           "yaxis": {
            "backgroundcolor": "#E5ECF6",
            "gridcolor": "white",
            "gridwidth": 2,
            "linecolor": "white",
            "showbackground": true,
            "ticks": "",
            "zerolinecolor": "white"
           },
           "zaxis": {
            "backgroundcolor": "#E5ECF6",
            "gridcolor": "white",
            "gridwidth": 2,
            "linecolor": "white",
            "showbackground": true,
            "ticks": "",
            "zerolinecolor": "white"
           }
          },
          "shapedefaults": {
           "line": {
            "color": "#2a3f5f"
           }
          },
          "ternary": {
           "aaxis": {
            "gridcolor": "white",
            "linecolor": "white",
            "ticks": ""
           },
           "baxis": {
            "gridcolor": "white",
            "linecolor": "white",
            "ticks": ""
           },
           "bgcolor": "#E5ECF6",
           "caxis": {
            "gridcolor": "white",
            "linecolor": "white",
            "ticks": ""
           }
          },
          "title": {
           "x": 0.05
          },
          "xaxis": {
           "automargin": true,
           "gridcolor": "white",
           "linecolor": "white",
           "ticks": "",
           "title": {
            "standoff": 15
           },
           "zerolinecolor": "white",
           "zerolinewidth": 2
          },
          "yaxis": {
           "automargin": true,
           "gridcolor": "white",
           "linecolor": "white",
           "ticks": "",
           "title": {
            "standoff": 15
           },
           "zerolinecolor": "white",
           "zerolinewidth": 2
          }
         }
        },
        "title": {
         "text": "Polls 2016"
        },
        "xaxis": {
         "anchor": "y",
         "domain": [
          0,
          1
         ],
         "title": {
          "text": "Date"
         }
        },
        "yaxis": {
         "anchor": "x",
         "domain": [
          0,
          1
         ],
         "title": {
          "text": "value"
         }
        }
       }
      },
      "text/html": [
       "<div>                            <div id=\"64844d5b-14f3-4879-a06a-17d1c4caf1ae\" class=\"plotly-graph-div\" style=\"height:525px; width:100%;\"></div>            <script type=\"text/javascript\">                require([\"plotly\"], function(Plotly) {                    window.PLOTLYENV=window.PLOTLYENV || {};                                    if (document.getElementById(\"64844d5b-14f3-4879-a06a-17d1c4caf1ae\")) {                    Plotly.newPlot(                        \"64844d5b-14f3-4879-a06a-17d1c4caf1ae\",                        [{\"hovertemplate\":\"variable=Clinton (D)<br>Date=%{x}<br>value=%{y}<extra></extra>\",\"legendgroup\":\"Clinton (D)\",\"line\":{\"color\":\"#636efa\",\"dash\":\"solid\"},\"marker\":{\"symbol\":\"circle\"},\"mode\":\"lines\",\"name\":\"Clinton (D)\",\"orientation\":\"v\",\"showlegend\":true,\"type\":\"scatter\",\"x\":[\"2016/11/1 \",\"2016/11/4 \",\"2016/11/4 \",\"2016/11/4 \",\"2016/11/1 \",\"2016/11/3 \",\"2016/11/3 \",\"2016/11/3 \",\"2016/11/3 \",\"2016/11/2 \",\"2016/11/2 \",\"2016/11/1 \",\"2016/11/1 \",\"2016/10/31 \",\"2016/10/31 \",\"2016/10/31 \",\"2016/10/30 \",\"2016/10/30 \",\"2016/10/29 \",\"2016/10/28 \",\"2016/10/27 \",\"2016/10/25 \",\"2016/10/25 \",\"2016/10/24 \",\"2016/10/22 \",\"2016/10/23 \",\"2016/10/22 \",\"2016/10/22 \",\"2016/10/20 \",\"2016/10/20 \",\"2016/10/21 \",\"2016/10/21 \",\"2016/10/19 \",\"2016/10/20 \",\"2016/10/20 \",\"2016/10/20 \",\"2016/10/20 \",\"2016/10/20 \",\"2016/10/20 \",\"2016/10/17 \",\"2016/10/17 \",\"2016/10/15 \",\"2016/10/15 \",\"2016/10/14 \",\"2016/10/13 \",\"2016/10/14 \",\"2016/10/12 \",\"2016/10/10 \",\"2016/10/10 \",\"2016/10/10 \",\"2016/10/9 \",\"2016/10/10 \",\"2016/10/8 \",\"2016/10/6 \",\"2016/10/8 \",\"2016/10/7 \",\"2016/10/5 \",\"2016/10/4 \",\"2016/10/3 \",\"2016/10/5 \",\"2016/10/3 \",\"2016/10/1 \",\"2016/9/29 \",\"2016/9/28 \",\"2016/9/28 \",\"2016/9/28 \",\"2016/9/27 \",\"2016/9/27 \",\"2016/9/26 \",\"2016/9/27 \",\"2016/9/27 \",\"2016/9/22 \",\"2016/9/22 \",\"2016/9/21 \",\"2016/9/22 \",\"2016/9/22 \",\"2016/9/20 \",\"2016/9/19 \",\"2016/9/19 \",\"2016/9/18 \",\"2016/9/15 \",\"2016/9/15 \",\"2016/9/16 \",\"2016/9/15 \",\"2016/9/13 \",\"2016/9/12 \",\"2016/9/11 \",\"2016/9/9 \",\"2016/9/10 \",\"2016/9/8 \",\"2016/9/8 \",\"2016/9/5 \",\"2016/9/5 \",\"2016/9/5 \",\"2016/9/4 \",\"2016/9/1 \",\"2016/9/1 \",\"2016/8/29 \",\"2016/8/26 \",\"2016/8/28 \",\"2016/8/26 \",\"2016/8/27 \",\"2016/8/25 \",\"2016/8/25 \",\"2016/8/24 \",\"2016/8/22 \",\"2016/8/22 \",\"2016/8/20 \",\"2016/8/19 \",\"2016/8/18 \",\"2016/8/15 \",\"2016/8/13 \",\"2016/8/14 \",\"2016/8/15 \",\"2016/8/8 \",\"2016/8/6 \",\"2016/8/6 \",\"2016/8/6 \",\"2016/8/5 \",\"2016/8/1 \",\"2016/7/30 \",\"2016/7/29 \",\"2016/8/1 \",\"2016/7/31 \",\"2016/8/1 \",\"2016/7/31 \",\"2016/7/30 \",\"2016/7/29 \",\"2016/7/30 \",\"2016/7/29 \",\"2016/7/25 \",\"2016/7/29 \",\"2016/7/25 \",\"2016/7/26 \",\"2016/7/23 \",\"2016/7/22 \",\"2016/7/20 \",\"2016/7/22 \",\"2016/7/18 \",\"2016/7/21 \",\"2016/7/18 \",\"2016/7/16 \",\"2016/7/15 \",\"2016/7/11 \",\"2016/7/13 \",\"2016/7/11 \",\"2016/7/12 \",\"2016/7/9 \",\"2016/7/8 \",\"2016/7/9 \",\"2016/7/5 \",\"2016/7/5 \",\"2016/7/2 \",\"2016/7/2 \",\"2016/6/28 \",\"2016/6/26 \",\"2016/6/27 \",\"2016/6/27 \",\"2016/6/26 \",\"2016/6/25 \",\"2016/6/24 \",\"2016/6/24 \",\"2016/6/21 \",\"2016/6/15 \",\"2016/6/20 \",\"2016/6/19 \",\"2016/6/20 \",\"2016/6/18 \",\"2016/6/18 \",\"2016/6/16 \",\"2016/6/15 \",\"2016/6/16 \",\"2016/6/14 \",\"2016/6/11 \",\"2016/6/11 \",\"2016/6/10 \",\"2016/6/9 \",\"2016/6/5 \",\"2016/6/6 \",\"2016/6/4 \",\"2016/6/2 \",\"2016/5/31 \",\"2016/5/31 \",\"2016/5/24 \",\"2016/5/23 \",\"2016/5/16 \",\"2016/8/14 \",\"2016/5/15 \",\"2016/5/17 \",\"2016/5/14 \",\"2016/5/13 \",\"2016/5/10 \",\"2016/5/6 \",\"2016/4/28 \",\"2016/4/27 \",\"2016/4/22 \",\"2016/4/25 \",\"2016/4/20 \",\"2016/4/17 \",\"2016/4/11 \",\"2016/4/10 \",\"2016/4/8 \",\"2016/3/29 \",\"2016/3/28 \",\"2016/3/24 \",\"2016/3/20 \",\"2016/3/19 \",\"2016/3/16 \",\"2016/3/17 \",\"2016/3/17 \",\"2016/3/17 \",\"2016/3/3 \",\"2016/3/3 \",\"2016/2/29 \",\"2016/2/24 \",\"2016/2/15 \",\"2016/2/11 \",\"2016/2/10 \",\"2016/2/2 \",\"2016/2/2 \",\"2016/1/9 \",\"2016/1/4 \",\"2015/12/22 \",\"2015/12/17 \",\"2015/12/16 \",\"2015/12/16 \",\"2015/12/16 \",\"2015/12/10 \",\"2015/12/6 \",\"2015/12/2 \",\"2015/11/27 \",\"2015/11/23 \",\"2015/11/15 \",\"2015/11/16 \",\"2015/11/16 \",\"2015/10/29 \",\"2015/10/29 \",\"2015/10/25 \",\"2015/10/14 \",\"2015/10/10 \",\"2015/10/1 \",\"2015/9/20 \",\"2015/9/20 \",\"2015/9/17 \",\"2015/9/7 \",\"2015/9/4 \",\"2015/8/26 \",\"2015/9/2 \",\"2015/8/28 \",\"2015/8/20 \",\"2015/8/13 \",\"2015/8/11 \",\"2015/7/23 \",\"2015/7/22 \",\"2015/7/22 \",\"2015/7/20 \",\"2015/7/9 \",\"2015/6/26 \",\"2015/6/21 \",\"2015/5/19 \"],\"xaxis\":\"x\",\"y\":[46.8,46.0,43.0,49.0,44.0,49.0,48.0,50.0,48.0,47.0,44.0,46.0,46.0,51.0,44.0,50.0,44.0,48.0,45.0,47.0,48.0,43.0,45.0,51.0,44.0,50.0,49.0,49.0,43.0,50.0,51.0,47.0,44.0,49.0,54.0,43.0,53.0,50.0,51.0,50.0,50.0,47.0,49.0,50.0,43.0,53.0,51.0,51.0,50.0,51.0,44.0,49.0,50.0,44.0,52.0,48.0,49.0,43.0,51.0,50.0,48.0,48.0,44.0,47.0,49.0,51.0,43.0,49.0,50.0,49.0,50.0,44.0,47.0,46.0,49.0,48.0,43.0,51.0,49.0,45.0,39.0,48.0,48.0,50.0,42.0,50.0,45.0,46.0,46.0,48.0,40.0,44.0,48.0,51.0,44.0,40.0,48.0,48.0,44.0,48.0,48.0,47.0,40.0,49.0,48.0,48.0,44.0,42.0,47.0,51.0,50.0,41.0,47.0,54.0,50.0,46.0,42.0,48.0,50.0,50.0,45.0,46.0,48.0,47.0,51.0,49.0,46.0,47.0,43.0,52.0,50.0,50.0,40.0,43.0,47.0,45.0,40.0,43.0,46.0,49.0,42.0,40.0,45.0,46.0,49.0,47.0,37.0,46.0,40.0,45.0,42.0,40.0,44.0,47.0,39.0,46.0,48.0,50.0,44.0,42.0,44.0,42.0,42.0,51.0,51.0,46.0,44.0,44.0,43.0,47.0,49.0,51.0,44.0,41.0,40.0,49.0,43.0,42.0,42.0,42.0,44.0,45.0,39.0,45.0,40.0,44.0,43.0,46.0,37.0,42.0,47.0,50.0,47.0,54.0,39.0,47.0,38.0,50.0,46.0,48.0,50.0,50.0,50.0,47.0,48.0,49.0,54.0,46.0,50.0,53.0,48.0,50.0,51.0,41.0,52.0,47.0,43.0,44.0,46.0,47.0,51.0,44.0,37.0,49.0,47.0,49.0,46.0,50.0,50.0,48.0,49.0,47.0,52.0,41.0,45.0,56.0,46.0,50.0,50.0,40.0,44.0,49.0,46.0,45.0,46.0,48.0,53.0,40.0,46.0,45.0,51.0,47.0,48.0,54.0,56.0,50.0,51.0,59.0,51.0,50.0],\"yaxis\":\"y\"},{\"hovertemplate\":\"variable=Trump (R)<br>Date=%{x}<br>value=%{y}<extra></extra>\",\"legendgroup\":\"Trump (R)\",\"line\":{\"color\":\"#EF553B\",\"dash\":\"solid\"},\"marker\":{\"symbol\":\"circle\"},\"mode\":\"lines\",\"name\":\"Trump (R)\",\"orientation\":\"v\",\"showlegend\":true,\"type\":\"scatter\",\"x\":[\"2016/11/1 \",\"2016/11/4 \",\"2016/11/4 \",\"2016/11/4 \",\"2016/11/1 \",\"2016/11/3 \",\"2016/11/3 \",\"2016/11/3 \",\"2016/11/3 \",\"2016/11/2 \",\"2016/11/2 \",\"2016/11/1 \",\"2016/11/1 \",\"2016/10/31 \",\"2016/10/31 \",\"2016/10/31 \",\"2016/10/30 \",\"2016/10/30 \",\"2016/10/29 \",\"2016/10/28 \",\"2016/10/27 \",\"2016/10/25 \",\"2016/10/25 \",\"2016/10/24 \",\"2016/10/22 \",\"2016/10/23 \",\"2016/10/22 \",\"2016/10/22 \",\"2016/10/20 \",\"2016/10/20 \",\"2016/10/21 \",\"2016/10/21 \",\"2016/10/19 \",\"2016/10/20 \",\"2016/10/20 \",\"2016/10/20 \",\"2016/10/20 \",\"2016/10/20 \",\"2016/10/20 \",\"2016/10/17 \",\"2016/10/17 \",\"2016/10/15 \",\"2016/10/15 \",\"2016/10/14 \",\"2016/10/13 \",\"2016/10/14 \",\"2016/10/12 \",\"2016/10/10 \",\"2016/10/10 \",\"2016/10/10 \",\"2016/10/9 \",\"2016/10/10 \",\"2016/10/8 \",\"2016/10/6 \",\"2016/10/8 \",\"2016/10/7 \",\"2016/10/5 \",\"2016/10/4 \",\"2016/10/3 \",\"2016/10/5 \",\"2016/10/3 \",\"2016/10/1 \",\"2016/9/29 \",\"2016/9/28 \",\"2016/9/28 \",\"2016/9/28 \",\"2016/9/27 \",\"2016/9/27 \",\"2016/9/26 \",\"2016/9/27 \",\"2016/9/27 \",\"2016/9/22 \",\"2016/9/22 \",\"2016/9/21 \",\"2016/9/22 \",\"2016/9/22 \",\"2016/9/20 \",\"2016/9/19 \",\"2016/9/19 \",\"2016/9/18 \",\"2016/9/15 \",\"2016/9/15 \",\"2016/9/16 \",\"2016/9/15 \",\"2016/9/13 \",\"2016/9/12 \",\"2016/9/11 \",\"2016/9/9 \",\"2016/9/10 \",\"2016/9/8 \",\"2016/9/8 \",\"2016/9/5 \",\"2016/9/5 \",\"2016/9/5 \",\"2016/9/4 \",\"2016/9/1 \",\"2016/9/1 \",\"2016/8/29 \",\"2016/8/26 \",\"2016/8/28 \",\"2016/8/26 \",\"2016/8/27 \",\"2016/8/25 \",\"2016/8/25 \",\"2016/8/24 \",\"2016/8/22 \",\"2016/8/22 \",\"2016/8/20 \",\"2016/8/19 \",\"2016/8/18 \",\"2016/8/15 \",\"2016/8/13 \",\"2016/8/14 \",\"2016/8/15 \",\"2016/8/8 \",\"2016/8/6 \",\"2016/8/6 \",\"2016/8/6 \",\"2016/8/5 \",\"2016/8/1 \",\"2016/7/30 \",\"2016/7/29 \",\"2016/8/1 \",\"2016/7/31 \",\"2016/8/1 \",\"2016/7/31 \",\"2016/7/30 \",\"2016/7/29 \",\"2016/7/30 \",\"2016/7/29 \",\"2016/7/25 \",\"2016/7/29 \",\"2016/7/25 \",\"2016/7/26 \",\"2016/7/23 \",\"2016/7/22 \",\"2016/7/20 \",\"2016/7/22 \",\"2016/7/18 \",\"2016/7/21 \",\"2016/7/18 \",\"2016/7/16 \",\"2016/7/15 \",\"2016/7/11 \",\"2016/7/13 \",\"2016/7/11 \",\"2016/7/12 \",\"2016/7/9 \",\"2016/7/8 \",\"2016/7/9 \",\"2016/7/5 \",\"2016/7/5 \",\"2016/7/2 \",\"2016/7/2 \",\"2016/6/28 \",\"2016/6/26 \",\"2016/6/27 \",\"2016/6/27 \",\"2016/6/26 \",\"2016/6/25 \",\"2016/6/24 \",\"2016/6/24 \",\"2016/6/21 \",\"2016/6/15 \",\"2016/6/20 \",\"2016/6/19 \",\"2016/6/20 \",\"2016/6/18 \",\"2016/6/18 \",\"2016/6/16 \",\"2016/6/15 \",\"2016/6/16 \",\"2016/6/14 \",\"2016/6/11 \",\"2016/6/11 \",\"2016/6/10 \",\"2016/6/9 \",\"2016/6/5 \",\"2016/6/6 \",\"2016/6/4 \",\"2016/6/2 \",\"2016/5/31 \",\"2016/5/31 \",\"2016/5/24 \",\"2016/5/23 \",\"2016/5/16 \",\"2016/8/14 \",\"2016/5/15 \",\"2016/5/17 \",\"2016/5/14 \",\"2016/5/13 \",\"2016/5/10 \",\"2016/5/6 \",\"2016/4/28 \",\"2016/4/27 \",\"2016/4/22 \",\"2016/4/25 \",\"2016/4/20 \",\"2016/4/17 \",\"2016/4/11 \",\"2016/4/10 \",\"2016/4/8 \",\"2016/3/29 \",\"2016/3/28 \",\"2016/3/24 \",\"2016/3/20 \",\"2016/3/19 \",\"2016/3/16 \",\"2016/3/17 \",\"2016/3/17 \",\"2016/3/17 \",\"2016/3/3 \",\"2016/3/3 \",\"2016/2/29 \",\"2016/2/24 \",\"2016/2/15 \",\"2016/2/11 \",\"2016/2/10 \",\"2016/2/2 \",\"2016/2/2 \",\"2016/1/9 \",\"2016/1/4 \",\"2015/12/22 \",\"2015/12/17 \",\"2015/12/16 \",\"2015/12/16 \",\"2015/12/16 \",\"2015/12/10 \",\"2015/12/6 \",\"2015/12/2 \",\"2015/11/27 \",\"2015/11/23 \",\"2015/11/15 \",\"2015/11/16 \",\"2015/11/16 \",\"2015/10/29 \",\"2015/10/29 \",\"2015/10/25 \",\"2015/10/14 \",\"2015/10/10 \",\"2015/10/1 \",\"2015/9/20 \",\"2015/9/20 \",\"2015/9/17 \",\"2015/9/7 \",\"2015/9/4 \",\"2015/8/26 \",\"2015/9/2 \",\"2015/8/28 \",\"2015/8/20 \",\"2015/8/13 \",\"2015/8/11 \",\"2015/7/23 \",\"2015/7/22 \",\"2015/7/22 \",\"2015/7/20 \",\"2015/7/9 \",\"2015/6/26 \",\"2015/6/21 \",\"2015/5/19 \"],\"xaxis\":\"x\",\"y\":[43.6,43.0,42.0,45.0,47.0,46.0,44.0,44.0,43.0,43.0,39.0,44.0,45.0,44.0,40.0,50.0,39.0,45.0,39.0,44.0,47.0,47.0,43.0,44.0,46.0,45.0,46.0,44.0,41.0,43.0,43.0,37.0,45.0,39.0,41.0,37.0,41.0,50.0,45.0,44.0,44.0,43.0,42.0,41.0,39.0,41.0,40.0,43.0,46.0,41.0,45.0,41.0,40.0,37.0,38.0,43.0,38.0,45.0,44.0,44.0,44.0,43.0,37.0,41.0,43.0,45.0,47.0,44.0,44.0,45.0,50.0,38.0,46.0,46.0,46.0,44.0,46.0,44.0,47.0,44.0,39.0,41.0,41.0,44.0,47.0,45.0,46.0,44.0,44.0,43.0,39.0,44.0,44.0,43.0,42.0,38.0,49.0,42.0,43.0,42.0,43.0,42.0,39.0,42.0,41.0,42.0,44.0,35.0,44.0,41.0,42.0,36.0,41.0,46.0,41.0,42.0,36.0,41.0,44.0,42.0,44.0,39.0,33.0,38.0,41.0,39.0,43.0,41.0,39.0,43.0,42.0,45.0,35.0,42.0,42.0,48.0,47.0,44.0,45.0,51.0,43.0,36.0,41.0,45.0,42.0,43.0,44.0,41.0,40.0,43.0,39.0,42.0,33.0,42.0,43.0,40.0,44.0,48.0,38.0,32.0,40.0,38.0,40.0,42.0,39.0,41.0,39.0,34.0,39.0,42.0,41.0,47.0,39.0,32.0,35.0,37.0,37.0,39.0,38.0,34.0,41.0,40.0,38.0,41.0,39.0,46.0,45.0,43.0,42.0,45.0,41.0,48.0,41.0,41.0,41.0,40.0,38.0,39.0,43.0,41.0,39.0,40.0,41.0,35.0,41.0,38.0,36.0,40.0,40.0,41.0,38.0,41.0,38.0,36.0,44.0,42.0,45.0,43.0,41.0,40.0,41.0,47.0,36.0,47.0,40.0,38.0,43.0,44.0,40.0,44.0,46.0,41.0,41.0,46.0,44.0,41.0,43.0,42.0,45.0,45.0,44.0,39.0,42.0,43.0,43.0,48.0,40.0,45.0,44.0,41.0,45.0,42.0,36.0,38.0,40.0,37.0,34.0,35.0,34.0,32.0],\"yaxis\":\"y\"}],                        {\"legend\":{\"title\":{\"text\":\"variable\"},\"tracegroupgap\":0},\"template\":{\"data\":{\"bar\":[{\"error_x\":{\"color\":\"#2a3f5f\"},\"error_y\":{\"color\":\"#2a3f5f\"},\"marker\":{\"line\":{\"color\":\"#E5ECF6\",\"width\":0.5},\"pattern\":{\"fillmode\":\"overlay\",\"size\":10,\"solidity\":0.2}},\"type\":\"bar\"}],\"barpolar\":[{\"marker\":{\"line\":{\"color\":\"#E5ECF6\",\"width\":0.5},\"pattern\":{\"fillmode\":\"overlay\",\"size\":10,\"solidity\":0.2}},\"type\":\"barpolar\"}],\"carpet\":[{\"aaxis\":{\"endlinecolor\":\"#2a3f5f\",\"gridcolor\":\"white\",\"linecolor\":\"white\",\"minorgridcolor\":\"white\",\"startlinecolor\":\"#2a3f5f\"},\"baxis\":{\"endlinecolor\":\"#2a3f5f\",\"gridcolor\":\"white\",\"linecolor\":\"white\",\"minorgridcolor\":\"white\",\"startlinecolor\":\"#2a3f5f\"},\"type\":\"carpet\"}],\"choropleth\":[{\"colorbar\":{\"outlinewidth\":0,\"ticks\":\"\"},\"type\":\"choropleth\"}],\"contour\":[{\"colorbar\":{\"outlinewidth\":0,\"ticks\":\"\"},\"colorscale\":[[0.0,\"#0d0887\"],[0.1111111111111111,\"#46039f\"],[0.2222222222222222,\"#7201a8\"],[0.3333333333333333,\"#9c179e\"],[0.4444444444444444,\"#bd3786\"],[0.5555555555555556,\"#d8576b\"],[0.6666666666666666,\"#ed7953\"],[0.7777777777777778,\"#fb9f3a\"],[0.8888888888888888,\"#fdca26\"],[1.0,\"#f0f921\"]],\"type\":\"contour\"}],\"contourcarpet\":[{\"colorbar\":{\"outlinewidth\":0,\"ticks\":\"\"},\"type\":\"contourcarpet\"}],\"heatmap\":[{\"colorbar\":{\"outlinewidth\":0,\"ticks\":\"\"},\"colorscale\":[[0.0,\"#0d0887\"],[0.1111111111111111,\"#46039f\"],[0.2222222222222222,\"#7201a8\"],[0.3333333333333333,\"#9c179e\"],[0.4444444444444444,\"#bd3786\"],[0.5555555555555556,\"#d8576b\"],[0.6666666666666666,\"#ed7953\"],[0.7777777777777778,\"#fb9f3a\"],[0.8888888888888888,\"#fdca26\"],[1.0,\"#f0f921\"]],\"type\":\"heatmap\"}],\"heatmapgl\":[{\"colorbar\":{\"outlinewidth\":0,\"ticks\":\"\"},\"colorscale\":[[0.0,\"#0d0887\"],[0.1111111111111111,\"#46039f\"],[0.2222222222222222,\"#7201a8\"],[0.3333333333333333,\"#9c179e\"],[0.4444444444444444,\"#bd3786\"],[0.5555555555555556,\"#d8576b\"],[0.6666666666666666,\"#ed7953\"],[0.7777777777777778,\"#fb9f3a\"],[0.8888888888888888,\"#fdca26\"],[1.0,\"#f0f921\"]],\"type\":\"heatmapgl\"}],\"histogram\":[{\"marker\":{\"pattern\":{\"fillmode\":\"overlay\",\"size\":10,\"solidity\":0.2}},\"type\":\"histogram\"}],\"histogram2d\":[{\"colorbar\":{\"outlinewidth\":0,\"ticks\":\"\"},\"colorscale\":[[0.0,\"#0d0887\"],[0.1111111111111111,\"#46039f\"],[0.2222222222222222,\"#7201a8\"],[0.3333333333333333,\"#9c179e\"],[0.4444444444444444,\"#bd3786\"],[0.5555555555555556,\"#d8576b\"],[0.6666666666666666,\"#ed7953\"],[0.7777777777777778,\"#fb9f3a\"],[0.8888888888888888,\"#fdca26\"],[1.0,\"#f0f921\"]],\"type\":\"histogram2d\"}],\"histogram2dcontour\":[{\"colorbar\":{\"outlinewidth\":0,\"ticks\":\"\"},\"colorscale\":[[0.0,\"#0d0887\"],[0.1111111111111111,\"#46039f\"],[0.2222222222222222,\"#7201a8\"],[0.3333333333333333,\"#9c179e\"],[0.4444444444444444,\"#bd3786\"],[0.5555555555555556,\"#d8576b\"],[0.6666666666666666,\"#ed7953\"],[0.7777777777777778,\"#fb9f3a\"],[0.8888888888888888,\"#fdca26\"],[1.0,\"#f0f921\"]],\"type\":\"histogram2dcontour\"}],\"mesh3d\":[{\"colorbar\":{\"outlinewidth\":0,\"ticks\":\"\"},\"type\":\"mesh3d\"}],\"parcoords\":[{\"line\":{\"colorbar\":{\"outlinewidth\":0,\"ticks\":\"\"}},\"type\":\"parcoords\"}],\"pie\":[{\"automargin\":true,\"type\":\"pie\"}],\"scatter\":[{\"marker\":{\"colorbar\":{\"outlinewidth\":0,\"ticks\":\"\"}},\"type\":\"scatter\"}],\"scatter3d\":[{\"line\":{\"colorbar\":{\"outlinewidth\":0,\"ticks\":\"\"}},\"marker\":{\"colorbar\":{\"outlinewidth\":0,\"ticks\":\"\"}},\"type\":\"scatter3d\"}],\"scattercarpet\":[{\"marker\":{\"colorbar\":{\"outlinewidth\":0,\"ticks\":\"\"}},\"type\":\"scattercarpet\"}],\"scattergeo\":[{\"marker\":{\"colorbar\":{\"outlinewidth\":0,\"ticks\":\"\"}},\"type\":\"scattergeo\"}],\"scattergl\":[{\"marker\":{\"colorbar\":{\"outlinewidth\":0,\"ticks\":\"\"}},\"type\":\"scattergl\"}],\"scattermapbox\":[{\"marker\":{\"colorbar\":{\"outlinewidth\":0,\"ticks\":\"\"}},\"type\":\"scattermapbox\"}],\"scatterpolar\":[{\"marker\":{\"colorbar\":{\"outlinewidth\":0,\"ticks\":\"\"}},\"type\":\"scatterpolar\"}],\"scatterpolargl\":[{\"marker\":{\"colorbar\":{\"outlinewidth\":0,\"ticks\":\"\"}},\"type\":\"scatterpolargl\"}],\"scatterternary\":[{\"marker\":{\"colorbar\":{\"outlinewidth\":0,\"ticks\":\"\"}},\"type\":\"scatterternary\"}],\"surface\":[{\"colorbar\":{\"outlinewidth\":0,\"ticks\":\"\"},\"colorscale\":[[0.0,\"#0d0887\"],[0.1111111111111111,\"#46039f\"],[0.2222222222222222,\"#7201a8\"],[0.3333333333333333,\"#9c179e\"],[0.4444444444444444,\"#bd3786\"],[0.5555555555555556,\"#d8576b\"],[0.6666666666666666,\"#ed7953\"],[0.7777777777777778,\"#fb9f3a\"],[0.8888888888888888,\"#fdca26\"],[1.0,\"#f0f921\"]],\"type\":\"surface\"}],\"table\":[{\"cells\":{\"fill\":{\"color\":\"#EBF0F8\"},\"line\":{\"color\":\"white\"}},\"header\":{\"fill\":{\"color\":\"#C8D4E3\"},\"line\":{\"color\":\"white\"}},\"type\":\"table\"}]},\"layout\":{\"annotationdefaults\":{\"arrowcolor\":\"#2a3f5f\",\"arrowhead\":0,\"arrowwidth\":1},\"autotypenumbers\":\"strict\",\"coloraxis\":{\"colorbar\":{\"outlinewidth\":0,\"ticks\":\"\"}},\"colorscale\":{\"diverging\":[[0,\"#8e0152\"],[0.1,\"#c51b7d\"],[0.2,\"#de77ae\"],[0.3,\"#f1b6da\"],[0.4,\"#fde0ef\"],[0.5,\"#f7f7f7\"],[0.6,\"#e6f5d0\"],[0.7,\"#b8e186\"],[0.8,\"#7fbc41\"],[0.9,\"#4d9221\"],[1,\"#276419\"]],\"sequential\":[[0.0,\"#0d0887\"],[0.1111111111111111,\"#46039f\"],[0.2222222222222222,\"#7201a8\"],[0.3333333333333333,\"#9c179e\"],[0.4444444444444444,\"#bd3786\"],[0.5555555555555556,\"#d8576b\"],[0.6666666666666666,\"#ed7953\"],[0.7777777777777778,\"#fb9f3a\"],[0.8888888888888888,\"#fdca26\"],[1.0,\"#f0f921\"]],\"sequentialminus\":[[0.0,\"#0d0887\"],[0.1111111111111111,\"#46039f\"],[0.2222222222222222,\"#7201a8\"],[0.3333333333333333,\"#9c179e\"],[0.4444444444444444,\"#bd3786\"],[0.5555555555555556,\"#d8576b\"],[0.6666666666666666,\"#ed7953\"],[0.7777777777777778,\"#fb9f3a\"],[0.8888888888888888,\"#fdca26\"],[1.0,\"#f0f921\"]]},\"colorway\":[\"#636efa\",\"#EF553B\",\"#00cc96\",\"#ab63fa\",\"#FFA15A\",\"#19d3f3\",\"#FF6692\",\"#B6E880\",\"#FF97FF\",\"#FECB52\"],\"font\":{\"color\":\"#2a3f5f\"},\"geo\":{\"bgcolor\":\"white\",\"lakecolor\":\"white\",\"landcolor\":\"#E5ECF6\",\"showlakes\":true,\"showland\":true,\"subunitcolor\":\"white\"},\"hoverlabel\":{\"align\":\"left\"},\"hovermode\":\"closest\",\"mapbox\":{\"style\":\"light\"},\"paper_bgcolor\":\"white\",\"plot_bgcolor\":\"#E5ECF6\",\"polar\":{\"angularaxis\":{\"gridcolor\":\"white\",\"linecolor\":\"white\",\"ticks\":\"\"},\"bgcolor\":\"#E5ECF6\",\"radialaxis\":{\"gridcolor\":\"white\",\"linecolor\":\"white\",\"ticks\":\"\"}},\"scene\":{\"xaxis\":{\"backgroundcolor\":\"#E5ECF6\",\"gridcolor\":\"white\",\"gridwidth\":2,\"linecolor\":\"white\",\"showbackground\":true,\"ticks\":\"\",\"zerolinecolor\":\"white\"},\"yaxis\":{\"backgroundcolor\":\"#E5ECF6\",\"gridcolor\":\"white\",\"gridwidth\":2,\"linecolor\":\"white\",\"showbackground\":true,\"ticks\":\"\",\"zerolinecolor\":\"white\"},\"zaxis\":{\"backgroundcolor\":\"#E5ECF6\",\"gridcolor\":\"white\",\"gridwidth\":2,\"linecolor\":\"white\",\"showbackground\":true,\"ticks\":\"\",\"zerolinecolor\":\"white\"}},\"shapedefaults\":{\"line\":{\"color\":\"#2a3f5f\"}},\"ternary\":{\"aaxis\":{\"gridcolor\":\"white\",\"linecolor\":\"white\",\"ticks\":\"\"},\"baxis\":{\"gridcolor\":\"white\",\"linecolor\":\"white\",\"ticks\":\"\"},\"bgcolor\":\"#E5ECF6\",\"caxis\":{\"gridcolor\":\"white\",\"linecolor\":\"white\",\"ticks\":\"\"}},\"title\":{\"x\":0.05},\"xaxis\":{\"automargin\":true,\"gridcolor\":\"white\",\"linecolor\":\"white\",\"ticks\":\"\",\"title\":{\"standoff\":15},\"zerolinecolor\":\"white\",\"zerolinewidth\":2},\"yaxis\":{\"automargin\":true,\"gridcolor\":\"white\",\"linecolor\":\"white\",\"ticks\":\"\",\"title\":{\"standoff\":15},\"zerolinecolor\":\"white\",\"zerolinewidth\":2}}},\"title\":{\"text\":\"Polls 2016\"},\"xaxis\":{\"anchor\":\"y\",\"domain\":[0.0,1.0],\"title\":{\"text\":\"Date\"}},\"yaxis\":{\"anchor\":\"x\",\"domain\":[0.0,1.0],\"title\":{\"text\":\"value\"}}},                        {\"responsive\": true}                    ).then(function(){\n",
       "                            \n",
       "var gd = document.getElementById('64844d5b-14f3-4879-a06a-17d1c4caf1ae');\n",
       "var x = new MutationObserver(function (mutations, observer) {{\n",
       "        var display = window.getComputedStyle(gd).display;\n",
       "        if (!display || display === 'none') {{\n",
       "            console.log([gd, 'removed!']);\n",
       "            Plotly.purge(gd);\n",
       "            observer.disconnect();\n",
       "        }}\n",
       "}});\n",
       "\n",
       "// Listen for the removal of the full notebook cells\n",
       "var notebookContainer = gd.closest('#notebook-container');\n",
       "if (notebookContainer) {{\n",
       "    x.observe(notebookContainer, {childList: true});\n",
       "}}\n",
       "\n",
       "// Listen for the clearing of the current output cell\n",
       "var outputEl = gd.closest('.output');\n",
       "if (outputEl) {{\n",
       "    x.observe(outputEl, {childList: true});\n",
       "}}\n",
       "\n",
       "                        })                };                });            </script>        </div>"
      ]
     },
     "metadata": {},
     "output_type": "display_data"
    }
   ],
   "source": [
    "#plot the time line : \n",
    "import plotly.express as px\n",
    "\n",
    "fig = px.line(df_tab_2016, x=\"Date\", y=df_tab_2016.columns[5:7],title='Polls 2016')\n",
    "#fig.add_scatter(x=df_tab_2016['Date'], y=df_tab_2016['Trump (R)'], mode='lines')\n",
    "fig.show()"
   ]
  }
 ],
 "metadata": {
  "kernelspec": {
   "display_name": "Python 3",
   "language": "python",
   "name": "python3"
  },
  "language_info": {
   "codemirror_mode": {
    "name": "ipython",
    "version": 3
   },
   "file_extension": ".py",
   "mimetype": "text/x-python",
   "name": "python",
   "nbconvert_exporter": "python",
   "pygments_lexer": "ipython3",
   "version": "3.8.5"
  }
 },
 "nbformat": 4,
 "nbformat_minor": 4
}
