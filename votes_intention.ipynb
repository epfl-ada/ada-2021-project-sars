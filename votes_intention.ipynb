{
 "cells": [
  {
   "cell_type": "markdown",
   "metadata": {},
   "source": [
    "# Scrapping the votes intention"
   ]
  },
  {
   "cell_type": "code",
   "execution_count": null,
   "metadata": {},
   "outputs": [],
   "source": [
    "#from selenium import webdriver\n",
    "#from bs4 import BeautifulSoup\n",
    "#from webdriver_manager.chrome import ChromeDriverManager\n",
    "import pandas as pd\n",
    "import warnings\n",
    "warnings.filterwarnings('ignore')"
   ]
  },
  {
   "cell_type": "code",
   "execution_count": null,
   "metadata": {},
   "outputs": [],
   "source": [
    "\n",
    "#get the webpage source \n",
    "options  = webdriver.ChromeOptions()\n",
    "driver = webdriver.Chrome(executable_path='C:\\\\Users\\\\saadc\\\\.wdm\\\\drivers\\\\chromedriver\\\\win32\\\\95.0.4638.54\\\\chromedriver.exe',options=options)\n",
    "driver.set_window_size(1120,1000)\n",
    "driver.get('https://www.realclearpolitics.com/epolls/2012/president/us/general_election_romney_vs_obama-1171.html#')\n",
    "\n",
    "# Wait for the page to fully load\n",
    "driver.implicitly_wait(5)\n",
    "\n",
    "# Step 2: Parse HTML code and grab tables with Beautiful Soup\n",
    "soup = BeautifulSoup(driver.page_source, 'lxml')\n",
    "\n",
    "tables = soup.find_all('table')\n",
    "\n",
    "# Step 3: Read tables with Pandas read_html()\n",
    "df_table_2012 = pd.read_html(str(tables))\n",
    "\n",
    "\n",
    "driver.close()"
   ]
  },
  {
   "cell_type": "code",
   "execution_count": null,
   "metadata": {},
   "outputs": [],
   "source": [
    "#our table of intrest is in the index 3\n",
    "df_table_2012[3].head()"
   ]
  },
  {
   "cell_type": "code",
   "execution_count": null,
   "metadata": {},
   "outputs": [],
   "source": [
    "#save the votes in a csv file : \n",
    "df_table_2012[3].to_csv(\"polls_2012.csv\")"
   ]
  },
  {
   "cell_type": "code",
   "execution_count": null,
   "metadata": {},
   "outputs": [],
   "source": [
    "#read the csv files of the scrapped votes in 2012, 2016 and 2020\n",
    "\n",
    "df_tab_2016 = pd.read_csv(\"Data/Scrapped/polls_2016.csv\")\n",
    "df_tab_2020  = pd.read_csv(\"Data/Scrapped/polls_2020.csv\")\n",
    "df_tab_2012  = pd.read_csv(\"Data/Scrapped/polls_2012.csv\")"
   ]
  },
  {
   "cell_type": "markdown",
   "metadata": {},
   "source": [
    "## Polls : 2012 "
   ]
  },
  {
   "cell_type": "markdown",
   "metadata": {},
   "source": [
    "### 1. Data cleaning and pre-processing"
   ]
  },
  {
   "cell_type": "code",
   "execution_count": null,
   "metadata": {},
   "outputs": [],
   "source": [
    "#seperate the year 2016 and 2015:\n",
    "df_tab_2012[df_tab_2012[\"Date\"]=='12/27 - 12/28'] # search for the index : 204\n",
    "temp1 = df_tab_2012.iloc[:204]\n",
    "temp1['Date']='2012/'+temp1[\"Date\"]\n",
    "temp2 = df_tab_2012.iloc[204:]\n",
    "temp2['Date']='2011/'+temp2[\"Date\"]\n",
    "df_tab_2012 = pd.concat([temp1,temp2])\n",
    "df_tab_2012"
   ]
  },
  {
   "cell_type": "code",
   "execution_count": null,
   "metadata": {},
   "outputs": [],
   "source": [
    "#get the first date of each vote\n",
    "df_tab_2012[\"Date\"] = (df_tab_2012[\"Date\"].str.split(\"-\")).str[0]"
   ]
  },
  {
   "cell_type": "code",
   "execution_count": null,
   "metadata": {
    "scrolled": false
   },
   "outputs": [],
   "source": [
    "df_tab_2012 = df_tab_2012.iloc[1:]\n",
    "df_tab_2012"
   ]
  },
  {
   "cell_type": "markdown",
   "metadata": {},
   "source": [
    "### 2. Aggregating the votes monthly "
   ]
  },
  {
   "cell_type": "code",
   "execution_count": null,
   "metadata": {},
   "outputs": [],
   "source": [
    "#aggregation by month : \n",
    "df_tab_2012[\"Date\"] = (df_tab_2012[\"Date\"].str.split(\"/\")).str[0] +'/'+ (df_tab_2012[\"Date\"].str.split(\"/\")).str[1]\n",
    "temp_df = df_tab_2012.groupby(['Date']).mean()\n",
    "temp_df   = temp_df.drop(['Unnamed: 0'],axis=1)\n",
    "temp_df[\"date\"]  = temp_df.index\n",
    "temp_df[\"date\"]  = pd.to_datetime(temp_df.date)\n",
    "temp_df = temp_df.sort_values(\"date\").reset_index(drop=True)"
   ]
  },
  {
   "cell_type": "markdown",
   "metadata": {},
   "source": [
    "### 3. Data visualization "
   ]
  },
  {
   "cell_type": "code",
   "execution_count": null,
   "metadata": {},
   "outputs": [],
   "source": [
    "import plotly.express as px\n",
    "import seaborn as sns \n",
    "import plotly.io as pio\n",
    "pio.renderers.default = \"browser\"\n",
    "\n",
    "#sns.lineplot(data=temp_df,x='date',y='Obama (D)')\n",
    "fig = px.bar(temp_df, x=\"date\", y=temp_df.columns[:2],title='Bar plot Polls 2012')\n",
    "#fig.add_scatter(x=df_tab_2016['Date'], y=df_tab_2016['Trump (R)'], mode='lines')\n",
    "fig.show(renderer=\"svg\")"
   ]
  },
  {
   "cell_type": "code",
   "execution_count": null,
   "metadata": {},
   "outputs": [],
   "source": [
    "\n",
    "fig = px.line(temp_df, x=\"date\", y=temp_df.columns[:2],title='Time line Polls 2012')\n",
    "#fig.add_scatter(x=df_tab_2016['Date'], y=df_tab_2016['Trump (R)'], mode='lines')\n",
    "fig.show(renderer=\"svg\")\n",
    "\n"
   ]
  },
  {
   "cell_type": "markdown",
   "metadata": {},
   "source": [
    "## Polls : 2016 "
   ]
  },
  {
   "cell_type": "markdown",
   "metadata": {},
   "source": [
    "### 1. Data cleaning and pre-processing "
   ]
  },
  {
   "cell_type": "code",
   "execution_count": null,
   "metadata": {},
   "outputs": [],
   "source": [
    "#seperate the year 2016 and 2015:\n",
    "#df_tab_2012[\"Date\"] = (df_tab_2016[\"Date\"].str.split(\"/\")).str[0] +'/'+ (df_tab_2016[\"Date\"].str.split(\"/\")).str[1]\n",
    "df_tab_2016[df_tab_2016[\"Date\"]=='12/22 - 12/23'] #index : 223\n",
    "temp1 = df_tab_2016.iloc[:223]\n",
    "temp1['Date']='2016/'+temp1[\"Date\"]\n",
    "temp2 = df_tab_2016.iloc[223:]\n",
    "temp2['Date']='2015/'+temp2[\"Date\"]\n",
    "df_tab_2016 = pd.concat([temp1,temp2])\n",
    "df_tab_2016"
   ]
  },
  {
   "cell_type": "code",
   "execution_count": null,
   "metadata": {},
   "outputs": [],
   "source": [
    "df_tab_2016[\"Date\"] = (df_tab_2016[\"Date\"].str.split(\"-\")).str[0]\n"
   ]
  },
  {
   "cell_type": "code",
   "execution_count": null,
   "metadata": {
    "scrolled": false
   },
   "outputs": [],
   "source": [
    "df_tab_2016 = df_tab_2016.iloc[1:]\n",
    "df_tab_2016"
   ]
  },
  {
   "cell_type": "markdown",
   "metadata": {},
   "source": [
    "### 2. Aggregating the votes monthly "
   ]
  },
  {
   "cell_type": "code",
   "execution_count": null,
   "metadata": {},
   "outputs": [],
   "source": [
    "#aggregation by month : \n",
    "df_tab_2016[\"Date\"] = (df_tab_2016[\"Date\"].str.split(\"/\")).str[0] +'/'+ (df_tab_2016[\"Date\"].str.split(\"/\")).str[1]\n",
    "temp_df = df_tab_2016.groupby(['Date']).mean()\n",
    "temp_df   = temp_df.drop(['Unnamed: 0'],axis=1)\n",
    "temp_df[\"date\"]  = temp_df.index\n",
    "temp_df[\"date\"]  = pd.to_datetime(temp_df.date)\n",
    "temp_df = temp_df.sort_values(\"date\").reset_index(drop=True)"
   ]
  },
  {
   "cell_type": "markdown",
   "metadata": {},
   "source": [
    "### 3. Data visualization "
   ]
  },
  {
   "cell_type": "code",
   "execution_count": null,
   "metadata": {},
   "outputs": [],
   "source": [
    "import plotly.express as px\n",
    "fig = px.bar(temp_df, x=\"date\", y=temp_df.columns[:2],title='Bar plot Polls 2016')\n",
    "#fig.add_scatter(x=df_tab_2016['Date'], y=df_tab_2016['Trump (R)'], mode='lines')\n",
    "fig.show(renderer=\"svg\")"
   ]
  },
  {
   "cell_type": "code",
   "execution_count": null,
   "metadata": {},
   "outputs": [],
   "source": [
    "fig = px.line(temp_df, x=\"date\", y=temp_df.columns[:2],title='time line Polls 2016')\n",
    "#fig.add_scatter(x=df_tab_2016['Date'], y=df_tab_2016['Trump (R)'], mode='lines')\n",
    "fig.show(renderer=\"svg\")\n"
   ]
  },
  {
   "cell_type": "markdown",
   "metadata": {},
   "source": [
    "### Polls : 2020 "
   ]
  },
  {
   "cell_type": "markdown",
   "metadata": {},
   "source": [
    "### 1. Data cleaning and pre-processing"
   ]
  },
  {
   "cell_type": "code",
   "execution_count": null,
   "metadata": {},
   "outputs": [],
   "source": [
    "#seperate the year 2016 and 2015:\n",
    "df_tab_2020[df_tab_2020[\"Date\"]=='12/15 - 12/17'] #index : 231\n",
    "temp1 = df_tab_2020.iloc[:231]\n",
    "temp1['Date']='2020/'+temp1[\"Date\"]\n",
    "temp2 = df_tab_2020.iloc[231:]\n",
    "temp2['Date']='2019/'+temp2[\"Date\"]\n",
    "df_tab_2020 = pd.concat([temp1,temp2])\n",
    "df_tab_2020[\"Date\"] = (df_tab_2020[\"Date\"].str.split(\"-\")).str[0]\n",
    "df_tab_2020 = df_tab_2020.iloc[1:]\n",
    "df_tab_2020"
   ]
  },
  {
   "cell_type": "markdown",
   "metadata": {},
   "source": [
    "### 2. Aggregating the votes monthly "
   ]
  },
  {
   "cell_type": "code",
   "execution_count": null,
   "metadata": {},
   "outputs": [],
   "source": [
    "#aggregation by month : \n",
    "df_tab_2020[\"Date\"] = (df_tab_2020[\"Date\"].str.split(\"/\")).str[0] +'/'+ (df_tab_2020[\"Date\"].str.split(\"/\")).str[1]\n",
    "temp_df = df_tab_2020.groupby(['Date']).mean()\n",
    "temp_df   = temp_df.drop(['Unnamed: 0'],axis=1)\n",
    "temp_df[\"date\"]  = temp_df.index\n",
    "temp_df[\"date\"]  = pd.to_datetime(temp_df.date)\n",
    "temp_df = temp_df.sort_values(\"date\").reset_index(drop=True)\n"
   ]
  },
  {
   "cell_type": "markdown",
   "metadata": {},
   "source": [
    "### 3. Data visualization "
   ]
  },
  {
   "cell_type": "code",
   "execution_count": null,
   "metadata": {},
   "outputs": [],
   "source": [
    "import plotly.express as px\n",
    "fig = px.bar(temp_df, x=\"date\", y=temp_df.columns[:2],title='Polls 2020')\n",
    "#fig.add_scatter(x=df_tab_2016['Date'], y=df_tab_2016['Trump (R)'], mode='lines')\n",
    "fig.show(renderer=\"svg\")"
   ]
  },
  {
   "cell_type": "code",
   "execution_count": null,
   "metadata": {},
   "outputs": [],
   "source": [
    "fig = px.line(temp_df, x=\"date\", y=temp_df.columns[:2],title='time line Polls 2016')\n",
    "#fig.add_scatter(x=df_tab_2016['Date'], y=df_tab_2016['Trump (R)'], mode='lines')\n",
    "fig.show(renderer=\"svg\")"
   ]
  },
  {
   "cell_type": "code",
   "execution_count": null,
   "outputs": [],
   "source": [],
   "metadata": {
    "collapsed": false,
    "pycharm": {
     "name": "#%%\n"
    }
   }
  }
 ],
 "metadata": {
  "kernelspec": {
   "display_name": "Python 3",
   "language": "python",
   "name": "python3"
  },
  "language_info": {
   "codemirror_mode": {
    "name": "ipython",
    "version": 3
   },
   "file_extension": ".py",
   "mimetype": "text/x-python",
   "name": "python",
   "nbconvert_exporter": "python",
   "pygments_lexer": "ipython3",
   "version": "3.8.5"
  }
 },
 "nbformat": 4,
 "nbformat_minor": 4
}