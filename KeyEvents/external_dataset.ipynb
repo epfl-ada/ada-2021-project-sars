{
 "cells": [
  {
   "cell_type": "code",
   "execution_count": null,
   "metadata": {},
   "outputs": [],
   "source": [
    "import pandas as pd\n",
    "import json\n",
    "import calendar"
   ]
  },
  {
   "cell_type": "markdown",
   "metadata": {},
   "source": [
    "# SPORTS"
   ]
  },
  {
   "cell_type": "code",
   "execution_count": 49,
   "metadata": {},
   "outputs": [
    {
     "name": "stdout",
     "output_type": "stream",
     "text": [
      "There are 47 sport-related key events in 2015\n",
      "There are 41 sport-related key events in 2016\n",
      "There are 56 sport-related key events in 2017\n",
      "There are 49 sport-related key events in 2018\n",
      "There are 66 sport-related key events in 2019\n",
      "There are 21 sport-related key events in 2020\n"
     ]
    }
   ],
   "source": [
    "topic = 'sport'\n",
    "\n",
    "for year in range(2015, 2021, 1):\n",
    "    filepath = f'key_events_{topic}_{year}.json'\n",
    "    f = open(filepath, 'r')\n",
    "    data = json.load(f)\n",
    "    i = 0\n",
    "    for dat in data:\n",
    "        i += 1\n",
    "    print(f'There are {i} sport-related key events in {year}')   \n",
    "    f.close() \n",
    "    "
   ]
  },
  {
   "cell_type": "code",
   "execution_count": null,
   "metadata": {},
   "outputs": [],
   "source": [
    "from external_dataset_helpers import convert_date_to_ints\n",
    "\n",
    "for date in data:\n",
    "    print(convert_date_to_ints(date['Date']))"
   ]
  },
  {
   "cell_type": "code",
   "execution_count": null,
   "metadata": {},
   "outputs": [],
   "source": [
    "Da"
   ]
  }
 ],
 "metadata": {
  "interpreter": {
   "hash": "31f2aee4e71d21fbe5cf8b01ff0e069b9275f58929596ceb00d14d90e3e16cd6"
  },
  "kernelspec": {
   "display_name": "Python 3.8.2 64-bit",
   "name": "python3"
  },
  "language_info": {
   "codemirror_mode": {
    "name": "ipython",
    "version": 3
   },
   "file_extension": ".py",
   "mimetype": "text/x-python",
   "name": "python",
   "nbconvert_exporter": "python",
   "pygments_lexer": "ipython3",
   "version": "3.8.2"
  },
  "orig_nbformat": 4
 },
 "nbformat": 4,
 "nbformat_minor": 2
}
