{
 "cells": [
  {
   "cell_type": "markdown",
   "metadata": {},
   "source": [
    "# Correlation Analysis\n",
    "---"
   ]
  },
  {
   "cell_type": "code",
   "execution_count": 1,
   "metadata": {},
   "outputs": [
    {
     "data": {
      "application/javascript": [
       "\n",
       "            setTimeout(function() {\n",
       "                var nbb_cell_id = 1;\n",
       "                var nbb_unformatted_code = \"import pandas as pd\\nimport pandas as pd\\nimport numpy as np\\nimport matplotlib.pyplot as plt\\n\\n%matplotlib inline\\nimport seaborn as sns\\nimport math\\nfrom statsmodels.stats import diagnostic\\nfrom scipy import stats\\nimport statsmodels.api as sm\\nimport statsmodels.formula.api as smf\\nfrom sklearn.preprocessing import MinMaxScaler\\nfrom sklearn.preprocessing import StandardScaler\\nfrom scipy.stats import pearsonr\\n\\n%load_ext nb_black\";\n",
       "                var nbb_formatted_code = \"import pandas as pd\\nimport pandas as pd\\nimport numpy as np\\nimport matplotlib.pyplot as plt\\n\\n%matplotlib inline\\nimport seaborn as sns\\nimport math\\nfrom statsmodels.stats import diagnostic\\nfrom scipy import stats\\nimport statsmodels.api as sm\\nimport statsmodels.formula.api as smf\\nfrom sklearn.preprocessing import MinMaxScaler\\nfrom sklearn.preprocessing import StandardScaler\\nfrom scipy.stats import pearsonr\\n\\n%load_ext nb_black\";\n",
       "                var nbb_cells = Jupyter.notebook.get_cells();\n",
       "                for (var i = 0; i < nbb_cells.length; ++i) {\n",
       "                    if (nbb_cells[i].input_prompt_number == nbb_cell_id) {\n",
       "                        if (nbb_cells[i].get_text() == nbb_unformatted_code) {\n",
       "                             nbb_cells[i].set_text(nbb_formatted_code);\n",
       "                        }\n",
       "                        break;\n",
       "                    }\n",
       "                }\n",
       "            }, 500);\n",
       "            "
      ],
      "text/plain": [
       "<IPython.core.display.Javascript object>"
      ]
     },
     "metadata": {},
     "output_type": "display_data"
    }
   ],
   "source": [
    "import pandas as pd\n",
    "import pandas as pd\n",
    "import numpy as np\n",
    "import matplotlib.pyplot as plt\n",
    "\n",
    "%matplotlib inline\n",
    "import seaborn as sns\n",
    "import math\n",
    "from statsmodels.stats import diagnostic\n",
    "from scipy import stats\n",
    "import statsmodels.api as sm\n",
    "import statsmodels.formula.api as smf\n",
    "from sklearn.preprocessing import MinMaxScaler\n",
    "from sklearn.preprocessing import StandardScaler\n",
    "from scipy.stats import pearsonr\n",
    "\n",
    "%load_ext nb_black"
   ]
  },
  {
   "cell_type": "code",
   "execution_count": 2,
   "metadata": {},
   "outputs": [
    {
     "data": {
      "application/javascript": [
       "\n",
       "            setTimeout(function() {\n",
       "                var nbb_cell_id = 2;\n",
       "                var nbb_unformatted_code = \"## Load data\\ndf_polls_2012 = pd.read_csv(\\\"Data\\\\preprocessed\\\\polls_2012.csv\\\")\\ndf_sentiment_obama_2012 = pd.read_csv(\\\"Data\\\\preprocessed\\\\sentiment_obama_2012.csv\\\")\\ndf_sentiment_romney_2012 = pd.read_csv(\\\"Data\\\\preprocessed\\\\sentiment_romney_2012.csv\\\")\\n\\n# Concat data\\ndf_candidates_2012 = pd.concat(\\n    [df_sentiment_romney_2012, df_sentiment_obama_2012], ignore_index=True\\n)\\n\\n# Cast to datetime type\\ndf_polls_2012[\\\"Date_start\\\"] = df_polls_2012[\\\"Date_start\\\"].astype(\\\"datetime64[ns]\\\")\\ndf_polls_2012[\\\"Date_end\\\"] = df_polls_2012[\\\"Date_end\\\"].astype(\\\"datetime64[ns]\\\")\\ndf_sentiment_obama_2012[\\\"date\\\"] = df_sentiment_obama_2012[\\\"date\\\"].astype(\\n    \\\"datetime64[ns]\\\"\\n)\\ndf_sentiment_romney_2012[\\\"date\\\"] = df_sentiment_romney_2012[\\\"date\\\"].astype(\\n    \\\"datetime64[ns]\\\"\\n)\\ndf_candidates_2012[\\\"date\\\"] = df_candidates_2012[\\\"date\\\"].astype(\\\"datetime64[ns]\\\")\";\n",
       "                var nbb_formatted_code = \"## Load data\\ndf_polls_2012 = pd.read_csv(\\\"Data\\\\preprocessed\\\\polls_2012.csv\\\")\\ndf_sentiment_obama_2012 = pd.read_csv(\\\"Data\\\\preprocessed\\\\sentiment_obama_2012.csv\\\")\\ndf_sentiment_romney_2012 = pd.read_csv(\\\"Data\\\\preprocessed\\\\sentiment_romney_2012.csv\\\")\\n\\n# Concat data\\ndf_candidates_2012 = pd.concat(\\n    [df_sentiment_romney_2012, df_sentiment_obama_2012], ignore_index=True\\n)\\n\\n# Cast to datetime type\\ndf_polls_2012[\\\"Date_start\\\"] = df_polls_2012[\\\"Date_start\\\"].astype(\\\"datetime64[ns]\\\")\\ndf_polls_2012[\\\"Date_end\\\"] = df_polls_2012[\\\"Date_end\\\"].astype(\\\"datetime64[ns]\\\")\\ndf_sentiment_obama_2012[\\\"date\\\"] = df_sentiment_obama_2012[\\\"date\\\"].astype(\\n    \\\"datetime64[ns]\\\"\\n)\\ndf_sentiment_romney_2012[\\\"date\\\"] = df_sentiment_romney_2012[\\\"date\\\"].astype(\\n    \\\"datetime64[ns]\\\"\\n)\\ndf_candidates_2012[\\\"date\\\"] = df_candidates_2012[\\\"date\\\"].astype(\\\"datetime64[ns]\\\")\";\n",
       "                var nbb_cells = Jupyter.notebook.get_cells();\n",
       "                for (var i = 0; i < nbb_cells.length; ++i) {\n",
       "                    if (nbb_cells[i].input_prompt_number == nbb_cell_id) {\n",
       "                        if (nbb_cells[i].get_text() == nbb_unformatted_code) {\n",
       "                             nbb_cells[i].set_text(nbb_formatted_code);\n",
       "                        }\n",
       "                        break;\n",
       "                    }\n",
       "                }\n",
       "            }, 500);\n",
       "            "
      ],
      "text/plain": [
       "<IPython.core.display.Javascript object>"
      ]
     },
     "metadata": {},
     "output_type": "display_data"
    }
   ],
   "source": [
    "## Load data\n",
    "df_polls_2012 = pd.read_csv(\"Data\\preprocessed\\polls_2012.csv\")\n",
    "df_sentiment_obama_2012 = pd.read_csv(\"Data\\preprocessed\\sentiment_obama_2012.csv\")\n",
    "df_sentiment_romney_2012 = pd.read_csv(\"Data\\preprocessed\\sentiment_romney_2012.csv\")\n",
    "\n",
    "# Concat data\n",
    "df_candidates_2012 = pd.concat(\n",
    "    [df_sentiment_romney_2012, df_sentiment_obama_2012], ignore_index=True\n",
    ")\n",
    "\n",
    "# Cast to datetime type\n",
    "df_polls_2012[\"Date_start\"] = df_polls_2012[\"Date_start\"].astype(\"datetime64[ns]\")\n",
    "df_polls_2012[\"Date_end\"] = df_polls_2012[\"Date_end\"].astype(\"datetime64[ns]\")\n",
    "df_sentiment_obama_2012[\"date\"] = df_sentiment_obama_2012[\"date\"].astype(\n",
    "    \"datetime64[ns]\"\n",
    ")\n",
    "df_sentiment_romney_2012[\"date\"] = df_sentiment_romney_2012[\"date\"].astype(\n",
    "    \"datetime64[ns]\"\n",
    ")\n",
    "df_candidates_2012[\"date\"] = df_candidates_2012[\"date\"].astype(\"datetime64[ns]\")"
   ]
  },
  {
   "cell_type": "markdown",
   "metadata": {},
   "source": [
    "## Data types and information\n",
    "---"
   ]
  },
  {
   "cell_type": "code",
   "execution_count": 3,
   "metadata": {},
   "outputs": [
    {
     "name": "stdout",
     "output_type": "stream",
     "text": [
      "<class 'pandas.core.frame.DataFrame'>\n",
      "RangeIndex: 328 entries, 0 to 327\n",
      "Data columns (total 9 columns):\n",
      " #   Column      Non-Null Count  Dtype         \n",
      "---  ------      --------------  -----         \n",
      " 0   Poll        328 non-null    object        \n",
      " 1   Date        328 non-null    object        \n",
      " 2   Sample      328 non-null    object        \n",
      " 3   MoE         328 non-null    object        \n",
      " 4   Obama (D)   328 non-null    float64       \n",
      " 5   Romney (R)  328 non-null    float64       \n",
      " 6   Spread      328 non-null    object        \n",
      " 7   Date_start  328 non-null    datetime64[ns]\n",
      " 8   Date_end    328 non-null    datetime64[ns]\n",
      "dtypes: datetime64[ns](2), float64(2), object(5)\n",
      "memory usage: 23.2+ KB\n",
      "\n"
     ]
    },
    {
     "data": {
      "text/plain": [
       "Poll           39\n",
       "Date          287\n",
       "Sample        175\n",
       "MoE            29\n",
       "Obama (D)      18\n",
       "Romney (R)     18\n",
       "Spread         23\n",
       "Date_start    251\n",
       "Date_end      237\n",
       "dtype: int64"
      ]
     },
     "execution_count": 3,
     "metadata": {},
     "output_type": "execute_result"
    },
    {
     "data": {
      "application/javascript": [
       "\n",
       "            setTimeout(function() {\n",
       "                var nbb_cell_id = 3;\n",
       "                var nbb_unformatted_code = \"df_polls_2012.info()\\nprint()\\ndf_polls_2012.nunique()\";\n",
       "                var nbb_formatted_code = \"df_polls_2012.info()\\nprint()\\ndf_polls_2012.nunique()\";\n",
       "                var nbb_cells = Jupyter.notebook.get_cells();\n",
       "                for (var i = 0; i < nbb_cells.length; ++i) {\n",
       "                    if (nbb_cells[i].input_prompt_number == nbb_cell_id) {\n",
       "                        if (nbb_cells[i].get_text() == nbb_unformatted_code) {\n",
       "                             nbb_cells[i].set_text(nbb_formatted_code);\n",
       "                        }\n",
       "                        break;\n",
       "                    }\n",
       "                }\n",
       "            }, 500);\n",
       "            "
      ],
      "text/plain": [
       "<IPython.core.display.Javascript object>"
      ]
     },
     "metadata": {},
     "output_type": "display_data"
    }
   ],
   "source": [
    "df_polls_2012.info()\n",
    "print()\n",
    "df_polls_2012.nunique()"
   ]
  },
  {
   "cell_type": "code",
   "execution_count": 4,
   "metadata": {},
   "outputs": [
    {
     "name": "stdout",
     "output_type": "stream",
     "text": [
      "<class 'pandas.core.frame.DataFrame'>\n",
      "RangeIndex: 29501 entries, 0 to 29500\n",
      "Data columns (total 18 columns):\n",
      " #   Column                     Non-Null Count  Dtype         \n",
      "---  ------                     --------------  -----         \n",
      " 0   quoteID                    29501 non-null  object        \n",
      " 1   quotation                  29501 non-null  object        \n",
      " 2   speaker                    29501 non-null  object        \n",
      " 3   qids                       29501 non-null  object        \n",
      " 4   date                       29501 non-null  datetime64[ns]\n",
      " 5   numOccurrences             29501 non-null  int64         \n",
      " 6   probas                     29501 non-null  object        \n",
      " 7   urls                       29501 non-null  object        \n",
      " 8   phase                      29501 non-null  object        \n",
      " 9   month                      29501 non-null  object        \n",
      " 10  type                       29501 non-null  object        \n",
      " 11  candidate                  29501 non-null  object        \n",
      " 12  quotation_tokenized        29501 non-null  object        \n",
      " 13  quotation_stemmed          29501 non-null  object        \n",
      " 14  quotation_lemmatized       29501 non-null  object        \n",
      " 15  quotation_conc_lemmatized  29478 non-null  object        \n",
      " 16  quotation_polarity         29501 non-null  float64       \n",
      " 17  quotation_subjectivity     29501 non-null  float64       \n",
      "dtypes: datetime64[ns](1), float64(2), int64(1), object(14)\n",
      "memory usage: 4.1+ MB\n",
      "\n"
     ]
    },
    {
     "data": {
      "text/plain": [
       "quoteID                      27416\n",
       "quotation                    27416\n",
       "speaker                       1611\n",
       "qids                          1528\n",
       "date                         13820\n",
       "numOccurrences                 391\n",
       "probas                       26428\n",
       "urls                         19469\n",
       "phase                            1\n",
       "month                           11\n",
       "type                             3\n",
       "candidate                        2\n",
       "quotation_tokenized          27403\n",
       "quotation_stemmed            27085\n",
       "quotation_lemmatized         27100\n",
       "quotation_conc_lemmatized    27098\n",
       "quotation_polarity            1634\n",
       "quotation_subjectivity        1731\n",
       "dtype: int64"
      ]
     },
     "execution_count": 4,
     "metadata": {},
     "output_type": "execute_result"
    },
    {
     "data": {
      "application/javascript": [
       "\n",
       "            setTimeout(function() {\n",
       "                var nbb_cell_id = 4;\n",
       "                var nbb_unformatted_code = \"df_candidates_2012.info()\\nprint()\\ndf_candidates_2012.nunique()\";\n",
       "                var nbb_formatted_code = \"df_candidates_2012.info()\\nprint()\\ndf_candidates_2012.nunique()\";\n",
       "                var nbb_cells = Jupyter.notebook.get_cells();\n",
       "                for (var i = 0; i < nbb_cells.length; ++i) {\n",
       "                    if (nbb_cells[i].input_prompt_number == nbb_cell_id) {\n",
       "                        if (nbb_cells[i].get_text() == nbb_unformatted_code) {\n",
       "                             nbb_cells[i].set_text(nbb_formatted_code);\n",
       "                        }\n",
       "                        break;\n",
       "                    }\n",
       "                }\n",
       "            }, 500);\n",
       "            "
      ],
      "text/plain": [
       "<IPython.core.display.Javascript object>"
      ]
     },
     "metadata": {},
     "output_type": "display_data"
    }
   ],
   "source": [
    "df_candidates_2012.info()\n",
    "print()\n",
    "df_candidates_2012.nunique()"
   ]
  },
  {
   "cell_type": "markdown",
   "metadata": {},
   "source": [
    "## Preprocessing\n",
    "***"
   ]
  },
  {
   "cell_type": "markdown",
   "metadata": {
    "tags": []
   },
   "source": [
    "### Aggregation"
   ]
  },
  {
   "cell_type": "markdown",
   "metadata": {
    "tags": []
   },
   "source": [
    "- #### By week"
   ]
  },
  {
   "cell_type": "code",
   "execution_count": 22,
   "metadata": {},
   "outputs": [
    {
     "data": {
      "application/javascript": [
       "\n",
       "            setTimeout(function() {\n",
       "                var nbb_cell_id = 22;\n",
       "                var nbb_unformatted_code = \"df_candidate = df_sentiment_romney_2012[['type','date', 'numOccurrences']]\";\n",
       "                var nbb_formatted_code = \"df_candidate = df_sentiment_romney_2012[[\\\"type\\\", \\\"date\\\", \\\"numOccurrences\\\"]]\";\n",
       "                var nbb_cells = Jupyter.notebook.get_cells();\n",
       "                for (var i = 0; i < nbb_cells.length; ++i) {\n",
       "                    if (nbb_cells[i].input_prompt_number == nbb_cell_id) {\n",
       "                        if (nbb_cells[i].get_text() == nbb_unformatted_code) {\n",
       "                             nbb_cells[i].set_text(nbb_formatted_code);\n",
       "                        }\n",
       "                        break;\n",
       "                    }\n",
       "                }\n",
       "            }, 500);\n",
       "            "
      ],
      "text/plain": [
       "<IPython.core.display.Javascript object>"
      ]
     },
     "metadata": {},
     "output_type": "display_data"
    }
   ],
   "source": [
    "df_candidate = df_sentiment_romney_2012[[\"type\", \"date\", \"numOccurrences\"]]"
   ]
  },
  {
   "cell_type": "code",
   "execution_count": 20,
   "metadata": {},
   "outputs": [
    {
     "data": {
      "text/plain": [
       "Index(['date', 'numOccurrences', 'type'], dtype='object')"
      ]
     },
     "execution_count": 20,
     "metadata": {},
     "output_type": "execute_result"
    },
    {
     "data": {
      "application/javascript": [
       "\n",
       "            setTimeout(function() {\n",
       "                var nbb_cell_id = 20;\n",
       "                var nbb_unformatted_code = \"df_candidate.columns\";\n",
       "                var nbb_formatted_code = \"df_candidate.columns\";\n",
       "                var nbb_cells = Jupyter.notebook.get_cells();\n",
       "                for (var i = 0; i < nbb_cells.length; ++i) {\n",
       "                    if (nbb_cells[i].input_prompt_number == nbb_cell_id) {\n",
       "                        if (nbb_cells[i].get_text() == nbb_unformatted_code) {\n",
       "                             nbb_cells[i].set_text(nbb_formatted_code);\n",
       "                        }\n",
       "                        break;\n",
       "                    }\n",
       "                }\n",
       "            }, 500);\n",
       "            "
      ],
      "text/plain": [
       "<IPython.core.display.Javascript object>"
      ]
     },
     "metadata": {},
     "output_type": "display_data"
    }
   ],
   "source": [
    "df_candidate.columns"
   ]
  },
  {
   "cell_type": "code",
   "execution_count": 21,
   "metadata": {},
   "outputs": [
    {
     "data": {
      "text/html": [
       "<div>\n",
       "<style scoped>\n",
       "    .dataframe tbody tr th:only-of-type {\n",
       "        vertical-align: middle;\n",
       "    }\n",
       "\n",
       "    .dataframe tbody tr th {\n",
       "        vertical-align: top;\n",
       "    }\n",
       "\n",
       "    .dataframe thead th {\n",
       "        text-align: right;\n",
       "    }\n",
       "</style>\n",
       "<table border=\"1\" class=\"dataframe\">\n",
       "  <thead>\n",
       "    <tr style=\"text-align: right;\">\n",
       "      <th></th>\n",
       "      <th>date</th>\n",
       "      <th>numOccurrences</th>\n",
       "      <th>type</th>\n",
       "    </tr>\n",
       "  </thead>\n",
       "  <tbody>\n",
       "    <tr>\n",
       "      <th>0</th>\n",
       "      <td>2012-01-22 16:16:00</td>\n",
       "      <td>3</td>\n",
       "      <td>NY Times</td>\n",
       "    </tr>\n",
       "    <tr>\n",
       "      <th>1</th>\n",
       "      <td>2012-04-21 03:06:13</td>\n",
       "      <td>15</td>\n",
       "      <td>NY Times</td>\n",
       "    </tr>\n",
       "    <tr>\n",
       "      <th>2</th>\n",
       "      <td>2012-06-23 04:29:31</td>\n",
       "      <td>1</td>\n",
       "      <td>NY Times</td>\n",
       "    </tr>\n",
       "    <tr>\n",
       "      <th>3</th>\n",
       "      <td>2012-01-01 01:26:46</td>\n",
       "      <td>29</td>\n",
       "      <td>NY Times</td>\n",
       "    </tr>\n",
       "    <tr>\n",
       "      <th>4</th>\n",
       "      <td>2012-04-04 01:38:50</td>\n",
       "      <td>40</td>\n",
       "      <td>NY Times</td>\n",
       "    </tr>\n",
       "    <tr>\n",
       "      <th>8933</th>\n",
       "      <td>2012-04-27 20:07:10</td>\n",
       "      <td>8</td>\n",
       "      <td>Fox News</td>\n",
       "    </tr>\n",
       "    <tr>\n",
       "      <th>8934</th>\n",
       "      <td>2012-10-09 12:46:57</td>\n",
       "      <td>1</td>\n",
       "      <td>Fox News</td>\n",
       "    </tr>\n",
       "    <tr>\n",
       "      <th>8935</th>\n",
       "      <td>2012-08-18 17:43:12</td>\n",
       "      <td>2</td>\n",
       "      <td>Fox News</td>\n",
       "    </tr>\n",
       "    <tr>\n",
       "      <th>8936</th>\n",
       "      <td>2012-04-13 21:06:52</td>\n",
       "      <td>1</td>\n",
       "      <td>Fox News</td>\n",
       "    </tr>\n",
       "    <tr>\n",
       "      <th>8937</th>\n",
       "      <td>2012-01-01 01:26:46</td>\n",
       "      <td>29</td>\n",
       "      <td>Fox News</td>\n",
       "    </tr>\n",
       "    <tr>\n",
       "      <th>14609</th>\n",
       "      <td>2012-07-02 07:44:05</td>\n",
       "      <td>2</td>\n",
       "      <td>BBC</td>\n",
       "    </tr>\n",
       "    <tr>\n",
       "      <th>14610</th>\n",
       "      <td>2012-03-20 17:18:42</td>\n",
       "      <td>11</td>\n",
       "      <td>BBC</td>\n",
       "    </tr>\n",
       "    <tr>\n",
       "      <th>14611</th>\n",
       "      <td>2012-08-17 08:51:22</td>\n",
       "      <td>1</td>\n",
       "      <td>BBC</td>\n",
       "    </tr>\n",
       "    <tr>\n",
       "      <th>14612</th>\n",
       "      <td>2012-02-24 08:28:58</td>\n",
       "      <td>4</td>\n",
       "      <td>BBC</td>\n",
       "    </tr>\n",
       "    <tr>\n",
       "      <th>14613</th>\n",
       "      <td>2012-06-14 09:28:04</td>\n",
       "      <td>1</td>\n",
       "      <td>BBC</td>\n",
       "    </tr>\n",
       "  </tbody>\n",
       "</table>\n",
       "</div>"
      ],
      "text/plain": [
       "                     date  numOccurrences      type\n",
       "0     2012-01-22 16:16:00               3  NY Times\n",
       "1     2012-04-21 03:06:13              15  NY Times\n",
       "2     2012-06-23 04:29:31               1  NY Times\n",
       "3     2012-01-01 01:26:46              29  NY Times\n",
       "4     2012-04-04 01:38:50              40  NY Times\n",
       "8933  2012-04-27 20:07:10               8  Fox News\n",
       "8934  2012-10-09 12:46:57               1  Fox News\n",
       "8935  2012-08-18 17:43:12               2  Fox News\n",
       "8936  2012-04-13 21:06:52               1  Fox News\n",
       "8937  2012-01-01 01:26:46              29  Fox News\n",
       "14609 2012-07-02 07:44:05               2       BBC\n",
       "14610 2012-03-20 17:18:42              11       BBC\n",
       "14611 2012-08-17 08:51:22               1       BBC\n",
       "14612 2012-02-24 08:28:58               4       BBC\n",
       "14613 2012-06-14 09:28:04               1       BBC"
      ]
     },
     "execution_count": 21,
     "metadata": {},
     "output_type": "execute_result"
    },
    {
     "data": {
      "application/javascript": [
       "\n",
       "            setTimeout(function() {\n",
       "                var nbb_cell_id = 21;\n",
       "                var nbb_unformatted_code = \"df_candidate.groupby([\\\"type\\\"]).head()\";\n",
       "                var nbb_formatted_code = \"df_candidate.groupby([\\\"type\\\"]).head()\";\n",
       "                var nbb_cells = Jupyter.notebook.get_cells();\n",
       "                for (var i = 0; i < nbb_cells.length; ++i) {\n",
       "                    if (nbb_cells[i].input_prompt_number == nbb_cell_id) {\n",
       "                        if (nbb_cells[i].get_text() == nbb_unformatted_code) {\n",
       "                             nbb_cells[i].set_text(nbb_formatted_code);\n",
       "                        }\n",
       "                        break;\n",
       "                    }\n",
       "                }\n",
       "            }, 500);\n",
       "            "
      ],
      "text/plain": [
       "<IPython.core.display.Javascript object>"
      ]
     },
     "metadata": {},
     "output_type": "display_data"
    }
   ],
   "source": [
    "df_candidate.groupby([\"type\"]).head()"
   ]
  },
  {
   "cell_type": "markdown",
   "metadata": {
    "tags": []
   },
   "source": [
    "- #### By survey period"
   ]
  },
  {
   "cell_type": "code",
   "execution_count": 5,
   "metadata": {},
   "outputs": [
    {
     "data": {
      "text/html": [
       "<div>\n",
       "<style scoped>\n",
       "    .dataframe tbody tr th:only-of-type {\n",
       "        vertical-align: middle;\n",
       "    }\n",
       "\n",
       "    .dataframe tbody tr th {\n",
       "        vertical-align: top;\n",
       "    }\n",
       "\n",
       "    .dataframe thead th {\n",
       "        text-align: right;\n",
       "    }\n",
       "</style>\n",
       "<table border=\"1\" class=\"dataframe\">\n",
       "  <thead>\n",
       "    <tr style=\"text-align: right;\">\n",
       "      <th></th>\n",
       "      <th>count</th>\n",
       "      <th>mean</th>\n",
       "      <th>std</th>\n",
       "      <th>min</th>\n",
       "      <th>25%</th>\n",
       "      <th>50%</th>\n",
       "      <th>75%</th>\n",
       "      <th>max</th>\n",
       "    </tr>\n",
       "  </thead>\n",
       "  <tbody>\n",
       "    <tr>\n",
       "      <th>numOccurrences</th>\n",
       "      <td>202.0</td>\n",
       "      <td>17.337344</td>\n",
       "      <td>8.305059</td>\n",
       "      <td>2.582418</td>\n",
       "      <td>13.054418</td>\n",
       "      <td>16.095203</td>\n",
       "      <td>20.170398</td>\n",
       "      <td>61.116279</td>\n",
       "    </tr>\n",
       "    <tr>\n",
       "      <th>quotation_polarity</th>\n",
       "      <td>202.0</td>\n",
       "      <td>0.068856</td>\n",
       "      <td>0.031203</td>\n",
       "      <td>-0.115152</td>\n",
       "      <td>0.052456</td>\n",
       "      <td>0.070351</td>\n",
       "      <td>0.087683</td>\n",
       "      <td>0.153393</td>\n",
       "    </tr>\n",
       "    <tr>\n",
       "      <th>quotation_subjectivity</th>\n",
       "      <td>202.0</td>\n",
       "      <td>0.308388</td>\n",
       "      <td>0.029839</td>\n",
       "      <td>0.228641</td>\n",
       "      <td>0.286538</td>\n",
       "      <td>0.307960</td>\n",
       "      <td>0.329108</td>\n",
       "      <td>0.427989</td>\n",
       "    </tr>\n",
       "    <tr>\n",
       "      <th>intention</th>\n",
       "      <td>202.0</td>\n",
       "      <td>44.995545</td>\n",
       "      <td>2.397766</td>\n",
       "      <td>38.000000</td>\n",
       "      <td>43.000000</td>\n",
       "      <td>45.000000</td>\n",
       "      <td>47.000000</td>\n",
       "      <td>50.000000</td>\n",
       "    </tr>\n",
       "  </tbody>\n",
       "</table>\n",
       "</div>"
      ],
      "text/plain": [
       "                        count       mean       std        min        25%  \\\n",
       "numOccurrences          202.0  17.337344  8.305059   2.582418  13.054418   \n",
       "quotation_polarity      202.0   0.068856  0.031203  -0.115152   0.052456   \n",
       "quotation_subjectivity  202.0   0.308388  0.029839   0.228641   0.286538   \n",
       "intention               202.0  44.995545  2.397766  38.000000  43.000000   \n",
       "\n",
       "                              50%        75%        max  \n",
       "numOccurrences          16.095203  20.170398  61.116279  \n",
       "quotation_polarity       0.070351   0.087683   0.153393  \n",
       "quotation_subjectivity   0.307960   0.329108   0.427989  \n",
       "intention               45.000000  47.000000  50.000000  "
      ]
     },
     "execution_count": 5,
     "metadata": {},
     "output_type": "execute_result"
    },
    {
     "data": {
      "application/javascript": [
       "\n",
       "            setTimeout(function() {\n",
       "                var nbb_cell_id = 5;\n",
       "                var nbb_unformatted_code = \"candidate = \\\"Romney (R)\\\"\\nsentiment_dataset = df_sentiment_romney_2012\\ncandidates_dataset = df_candidates_2012\\n\\n\\ndef func_apply(x):\\n    \\\"\\\"\\\"\\n    Take the mean of numOccurrences, quotation_polarity, quotation_subjectivity\\n    during a the period of time of the survey x. Also output the vote intention.\\n    \\\"\\\"\\\"\\n    df_temp = sentiment_dataset.loc[\\n        (candidates_dataset.date >= x.Date_start)\\n        & (candidates_dataset.date < x.Date_end)\\n    ]\\n\\n    return df_temp.describe().transpose()[\\\"mean\\\"].append(pd.Series(x[candidate]))\\n\\n\\ndf = df_polls_2012.apply(func_apply, axis=1)\\ndf.dropna(inplace=True)\\ndf.rename(columns={0: \\\"intention\\\"}, inplace=True)\\ndf.describe().transpose()\";\n",
       "                var nbb_formatted_code = \"candidate = \\\"Romney (R)\\\"\\nsentiment_dataset = df_sentiment_romney_2012\\ncandidates_dataset = df_candidates_2012\\n\\n\\ndef func_apply(x):\\n    \\\"\\\"\\\"\\n    Take the mean of numOccurrences, quotation_polarity, quotation_subjectivity\\n    during a the period of time of the survey x. Also output the vote intention.\\n    \\\"\\\"\\\"\\n    df_temp = sentiment_dataset.loc[\\n        (candidates_dataset.date >= x.Date_start)\\n        & (candidates_dataset.date < x.Date_end)\\n    ]\\n\\n    return df_temp.describe().transpose()[\\\"mean\\\"].append(pd.Series(x[candidate]))\\n\\n\\ndf = df_polls_2012.apply(func_apply, axis=1)\\ndf.dropna(inplace=True)\\ndf.rename(columns={0: \\\"intention\\\"}, inplace=True)\\ndf.describe().transpose()\";\n",
       "                var nbb_cells = Jupyter.notebook.get_cells();\n",
       "                for (var i = 0; i < nbb_cells.length; ++i) {\n",
       "                    if (nbb_cells[i].input_prompt_number == nbb_cell_id) {\n",
       "                        if (nbb_cells[i].get_text() == nbb_unformatted_code) {\n",
       "                             nbb_cells[i].set_text(nbb_formatted_code);\n",
       "                        }\n",
       "                        break;\n",
       "                    }\n",
       "                }\n",
       "            }, 500);\n",
       "            "
      ],
      "text/plain": [
       "<IPython.core.display.Javascript object>"
      ]
     },
     "metadata": {},
     "output_type": "display_data"
    }
   ],
   "source": [
    "candidate = \"Romney (R)\"\n",
    "sentiment_dataset = df_sentiment_romney_2012\n",
    "candidates_dataset = df_candidates_2012\n",
    "\n",
    "\n",
    "def func_apply(x):\n",
    "    \"\"\"\n",
    "    Take the mean of numOccurrences, quotation_polarity, quotation_subjectivity\n",
    "    during a the period of time of the survey x. Also output the vote intention.\n",
    "    \"\"\"\n",
    "    df_temp = sentiment_dataset.loc[\n",
    "        (candidates_dataset.date >= x.Date_start)\n",
    "        & (candidates_dataset.date < x.Date_end)\n",
    "    ]\n",
    "\n",
    "    return df_temp.describe().transpose()[\"mean\"].append(pd.Series(x[candidate]))\n",
    "\n",
    "\n",
    "df = df_polls_2012.apply(func_apply, axis=1)\n",
    "df.dropna(inplace=True)\n",
    "df.rename(columns={0: \"intention\"}, inplace=True)\n",
    "df.describe().transpose()"
   ]
  },
  {
   "cell_type": "code",
   "execution_count": 6,
   "metadata": {},
   "outputs": [
    {
     "data": {
      "text/html": [
       "<div>\n",
       "<style scoped>\n",
       "    .dataframe tbody tr th:only-of-type {\n",
       "        vertical-align: middle;\n",
       "    }\n",
       "\n",
       "    .dataframe tbody tr th {\n",
       "        vertical-align: top;\n",
       "    }\n",
       "\n",
       "    .dataframe thead th {\n",
       "        text-align: right;\n",
       "    }\n",
       "</style>\n",
       "<table border=\"1\" class=\"dataframe\">\n",
       "  <thead>\n",
       "    <tr style=\"text-align: right;\">\n",
       "      <th></th>\n",
       "      <th>count</th>\n",
       "      <th>mean</th>\n",
       "      <th>std</th>\n",
       "      <th>min</th>\n",
       "      <th>25%</th>\n",
       "      <th>50%</th>\n",
       "      <th>75%</th>\n",
       "      <th>max</th>\n",
       "    </tr>\n",
       "  </thead>\n",
       "  <tbody>\n",
       "    <tr>\n",
       "      <th>numOccurrences</th>\n",
       "      <td>202.0</td>\n",
       "      <td>1.733734e+01</td>\n",
       "      <td>8.305059</td>\n",
       "      <td>2.582418</td>\n",
       "      <td>13.054418</td>\n",
       "      <td>16.095203</td>\n",
       "      <td>20.170398</td>\n",
       "      <td>61.116279</td>\n",
       "    </tr>\n",
       "    <tr>\n",
       "      <th>quotation_polarity</th>\n",
       "      <td>202.0</td>\n",
       "      <td>6.885576e-02</td>\n",
       "      <td>0.031203</td>\n",
       "      <td>-0.115152</td>\n",
       "      <td>0.052456</td>\n",
       "      <td>0.070351</td>\n",
       "      <td>0.087683</td>\n",
       "      <td>0.153393</td>\n",
       "    </tr>\n",
       "    <tr>\n",
       "      <th>quotation_subjectivity</th>\n",
       "      <td>202.0</td>\n",
       "      <td>3.083882e-01</td>\n",
       "      <td>0.029839</td>\n",
       "      <td>0.228641</td>\n",
       "      <td>0.286538</td>\n",
       "      <td>0.307960</td>\n",
       "      <td>0.329108</td>\n",
       "      <td>0.427989</td>\n",
       "    </tr>\n",
       "    <tr>\n",
       "      <th>intention</th>\n",
       "      <td>202.0</td>\n",
       "      <td>4.499554e+01</td>\n",
       "      <td>2.397766</td>\n",
       "      <td>38.000000</td>\n",
       "      <td>43.000000</td>\n",
       "      <td>45.000000</td>\n",
       "      <td>47.000000</td>\n",
       "      <td>50.000000</td>\n",
       "    </tr>\n",
       "    <tr>\n",
       "      <th>numOccurrences_scaled</th>\n",
       "      <td>202.0</td>\n",
       "      <td>2.520751e-01</td>\n",
       "      <td>0.141885</td>\n",
       "      <td>0.000000</td>\n",
       "      <td>0.178905</td>\n",
       "      <td>0.230854</td>\n",
       "      <td>0.300475</td>\n",
       "      <td>1.000000</td>\n",
       "    </tr>\n",
       "    <tr>\n",
       "      <th>quotation_polarity_scaled</th>\n",
       "      <td>202.0</td>\n",
       "      <td>6.852025e-01</td>\n",
       "      <td>0.116193</td>\n",
       "      <td>0.000000</td>\n",
       "      <td>0.624133</td>\n",
       "      <td>0.690771</td>\n",
       "      <td>0.755310</td>\n",
       "      <td>1.000000</td>\n",
       "    </tr>\n",
       "    <tr>\n",
       "      <th>quotation_subjectivity_scaled</th>\n",
       "      <td>202.0</td>\n",
       "      <td>4.000400e-01</td>\n",
       "      <td>0.149685</td>\n",
       "      <td>0.000000</td>\n",
       "      <td>0.290431</td>\n",
       "      <td>0.397893</td>\n",
       "      <td>0.503977</td>\n",
       "      <td>1.000000</td>\n",
       "    </tr>\n",
       "    <tr>\n",
       "      <th>intention_scaled</th>\n",
       "      <td>202.0</td>\n",
       "      <td>5.829620e-01</td>\n",
       "      <td>0.199814</td>\n",
       "      <td>0.000000</td>\n",
       "      <td>0.416667</td>\n",
       "      <td>0.583333</td>\n",
       "      <td>0.750000</td>\n",
       "      <td>1.000000</td>\n",
       "    </tr>\n",
       "    <tr>\n",
       "      <th>numOccurrences_standardized</th>\n",
       "      <td>202.0</td>\n",
       "      <td>1.978615e-16</td>\n",
       "      <td>1.002484</td>\n",
       "      <td>-1.781033</td>\n",
       "      <td>-0.516982</td>\n",
       "      <td>-0.149936</td>\n",
       "      <td>0.341971</td>\n",
       "      <td>5.284454</td>\n",
       "    </tr>\n",
       "    <tr>\n",
       "      <th>quotation_polarity_standardized</th>\n",
       "      <td>202.0</td>\n",
       "      <td>-1.055261e-16</td>\n",
       "      <td>1.002484</td>\n",
       "      <td>-5.911766</td>\n",
       "      <td>-0.526890</td>\n",
       "      <td>0.048046</td>\n",
       "      <td>0.604870</td>\n",
       "      <td>2.715999</td>\n",
       "    </tr>\n",
       "    <tr>\n",
       "      <th>quotation_subjectivity_standardized</th>\n",
       "      <td>202.0</td>\n",
       "      <td>-4.045169e-16</td>\n",
       "      <td>1.002484</td>\n",
       "      <td>-2.679185</td>\n",
       "      <td>-0.734086</td>\n",
       "      <td>-0.014378</td>\n",
       "      <td>0.696100</td>\n",
       "      <td>4.018108</td>\n",
       "    </tr>\n",
       "    <tr>\n",
       "      <th>intention_standardized</th>\n",
       "      <td>202.0</td>\n",
       "      <td>-1.547717e-15</td>\n",
       "      <td>1.002484</td>\n",
       "      <td>-2.924774</td>\n",
       "      <td>-0.834319</td>\n",
       "      <td>0.001863</td>\n",
       "      <td>0.838045</td>\n",
       "      <td>2.092318</td>\n",
       "    </tr>\n",
       "  </tbody>\n",
       "</table>\n",
       "</div>"
      ],
      "text/plain": [
       "                                     count          mean       std        min  \\\n",
       "numOccurrences                       202.0  1.733734e+01  8.305059   2.582418   \n",
       "quotation_polarity                   202.0  6.885576e-02  0.031203  -0.115152   \n",
       "quotation_subjectivity               202.0  3.083882e-01  0.029839   0.228641   \n",
       "intention                            202.0  4.499554e+01  2.397766  38.000000   \n",
       "numOccurrences_scaled                202.0  2.520751e-01  0.141885   0.000000   \n",
       "quotation_polarity_scaled            202.0  6.852025e-01  0.116193   0.000000   \n",
       "quotation_subjectivity_scaled        202.0  4.000400e-01  0.149685   0.000000   \n",
       "intention_scaled                     202.0  5.829620e-01  0.199814   0.000000   \n",
       "numOccurrences_standardized          202.0  1.978615e-16  1.002484  -1.781033   \n",
       "quotation_polarity_standardized      202.0 -1.055261e-16  1.002484  -5.911766   \n",
       "quotation_subjectivity_standardized  202.0 -4.045169e-16  1.002484  -2.679185   \n",
       "intention_standardized               202.0 -1.547717e-15  1.002484  -2.924774   \n",
       "\n",
       "                                           25%        50%        75%  \\\n",
       "numOccurrences                       13.054418  16.095203  20.170398   \n",
       "quotation_polarity                    0.052456   0.070351   0.087683   \n",
       "quotation_subjectivity                0.286538   0.307960   0.329108   \n",
       "intention                            43.000000  45.000000  47.000000   \n",
       "numOccurrences_scaled                 0.178905   0.230854   0.300475   \n",
       "quotation_polarity_scaled             0.624133   0.690771   0.755310   \n",
       "quotation_subjectivity_scaled         0.290431   0.397893   0.503977   \n",
       "intention_scaled                      0.416667   0.583333   0.750000   \n",
       "numOccurrences_standardized          -0.516982  -0.149936   0.341971   \n",
       "quotation_polarity_standardized      -0.526890   0.048046   0.604870   \n",
       "quotation_subjectivity_standardized  -0.734086  -0.014378   0.696100   \n",
       "intention_standardized               -0.834319   0.001863   0.838045   \n",
       "\n",
       "                                           max  \n",
       "numOccurrences                       61.116279  \n",
       "quotation_polarity                    0.153393  \n",
       "quotation_subjectivity                0.427989  \n",
       "intention                            50.000000  \n",
       "numOccurrences_scaled                 1.000000  \n",
       "quotation_polarity_scaled             1.000000  \n",
       "quotation_subjectivity_scaled         1.000000  \n",
       "intention_scaled                      1.000000  \n",
       "numOccurrences_standardized           5.284454  \n",
       "quotation_polarity_standardized       2.715999  \n",
       "quotation_subjectivity_standardized   4.018108  \n",
       "intention_standardized                2.092318  "
      ]
     },
     "execution_count": 6,
     "metadata": {},
     "output_type": "execute_result"
    },
    {
     "data": {
      "application/javascript": [
       "\n",
       "            setTimeout(function() {\n",
       "                var nbb_cell_id = 6;\n",
       "                var nbb_unformatted_code = \"mmscaler = MinMaxScaler()\\nstdscaler = StandardScaler()\\ncols = df.columns\\n\\nfor col in cols:\\n    df[f\\\"{col}_scaled\\\"] = mmscaler.fit_transform(df[col].to_numpy().reshape(-1, 1))\\n\\nfor col in cols:\\n    df[f\\\"{col}_standardized\\\"] = stdscaler.fit_transform(\\n        df[col].to_numpy().reshape(-1, 1)\\n    )\\n\\ndf.describe().transpose()\";\n",
       "                var nbb_formatted_code = \"mmscaler = MinMaxScaler()\\nstdscaler = StandardScaler()\\ncols = df.columns\\n\\nfor col in cols:\\n    df[f\\\"{col}_scaled\\\"] = mmscaler.fit_transform(df[col].to_numpy().reshape(-1, 1))\\n\\nfor col in cols:\\n    df[f\\\"{col}_standardized\\\"] = stdscaler.fit_transform(\\n        df[col].to_numpy().reshape(-1, 1)\\n    )\\n\\ndf.describe().transpose()\";\n",
       "                var nbb_cells = Jupyter.notebook.get_cells();\n",
       "                for (var i = 0; i < nbb_cells.length; ++i) {\n",
       "                    if (nbb_cells[i].input_prompt_number == nbb_cell_id) {\n",
       "                        if (nbb_cells[i].get_text() == nbb_unformatted_code) {\n",
       "                             nbb_cells[i].set_text(nbb_formatted_code);\n",
       "                        }\n",
       "                        break;\n",
       "                    }\n",
       "                }\n",
       "            }, 500);\n",
       "            "
      ],
      "text/plain": [
       "<IPython.core.display.Javascript object>"
      ]
     },
     "metadata": {},
     "output_type": "display_data"
    }
   ],
   "source": [
    "mmscaler = MinMaxScaler()\n",
    "stdscaler = StandardScaler()\n",
    "cols = df.columns\n",
    "\n",
    "for col in cols:\n",
    "    df[f\"{col}_scaled\"] = mmscaler.fit_transform(df[col].to_numpy().reshape(-1, 1))\n",
    "\n",
    "for col in cols:\n",
    "    df[f\"{col}_standardized\"] = stdscaler.fit_transform(\n",
    "        df[col].to_numpy().reshape(-1, 1)\n",
    "    )\n",
    "\n",
    "df.describe().transpose()"
   ]
  },
  {
   "cell_type": "code",
   "execution_count": 7,
   "metadata": {},
   "outputs": [
    {
     "data": {
      "text/plain": [
       "<seaborn.axisgrid.PairGrid at 0x20a07940>"
      ]
     },
     "execution_count": 7,
     "metadata": {},
     "output_type": "execute_result"
    },
    {
     "data": {
      "image/png": "[encoded data removed]",
      "text/plain": [
       "<Figure size 720x720 with 20 Axes>"
      ]
     },
     "metadata": {
      "needs_background": "light"
     },
     "output_type": "display_data"
    },
    {
     "data": {
      "application/javascript": [
       "\n",
       "            setTimeout(function() {\n",
       "                var nbb_cell_id = 7;\n",
       "                var nbb_unformatted_code = \"sns.pairplot(df.iloc[:, :4])\";\n",
       "                var nbb_formatted_code = \"sns.pairplot(df.iloc[:, :4])\";\n",
       "                var nbb_cells = Jupyter.notebook.get_cells();\n",
       "                for (var i = 0; i < nbb_cells.length; ++i) {\n",
       "                    if (nbb_cells[i].input_prompt_number == nbb_cell_id) {\n",
       "                        if (nbb_cells[i].get_text() == nbb_unformatted_code) {\n",
       "                             nbb_cells[i].set_text(nbb_formatted_code);\n",
       "                        }\n",
       "                        break;\n",
       "                    }\n",
       "                }\n",
       "            }, 500);\n",
       "            "
      ],
      "text/plain": [
       "<IPython.core.display.Javascript object>"
      ]
     },
     "metadata": {},
     "output_type": "display_data"
    }
   ],
   "source": [
    "sns.pairplot(df.iloc[:, :4])"
   ]
  },
  {
   "cell_type": "markdown",
   "metadata": {},
   "source": [
    "## Regression Analysis\n",
    "---"
   ]
  },
  {
   "cell_type": "code",
   "execution_count": 8,
   "metadata": {},
   "outputs": [
    {
     "name": "stdout",
     "output_type": "stream",
     "text": [
      "                            OLS Regression Results                            \n",
      "==============================================================================\n",
      "Dep. Variable:              intention   R-squared:                       0.012\n",
      "Model:                            OLS   Adj. R-squared:                 -0.003\n",
      "Method:                 Least Squares   F-statistic:                    0.8085\n",
      "Date:                Fri, 10 Dec 2021   Prob (F-statistic):              0.491\n",
      "Time:                        16:12:59   Log-Likelihood:                -461.55\n",
      "No. Observations:                 202   AIC:                             931.1\n",
      "Df Residuals:                     198   BIC:                             944.3\n",
      "Df Model:                           3                                         \n",
      "Covariance Type:            nonrobust                                         \n",
      "==========================================================================================\n",
      "                             coef    std err          t      P>|t|      [0.025      0.975]\n",
      "------------------------------------------------------------------------------------------\n",
      "Intercept                 44.6786      1.982     22.546      0.000      40.771      48.587\n",
      "quotation_polarity         0.5465      6.114      0.089      0.929     -11.510      12.603\n",
      "numOccurrences            -0.0274      0.022     -1.270      0.206      -0.070       0.015\n",
      "quotation_subjectivity     2.4440      6.403      0.382      0.703     -10.183      15.071\n",
      "==============================================================================\n",
      "Omnibus:                        9.143   Durbin-Watson:                   1.804\n",
      "Prob(Omnibus):                  0.010   Jarque-Bera (JB):                9.686\n",
      "Skew:                          -0.531   Prob(JB):                      0.00788\n",
      "Kurtosis:                       2.851   Cond. No.                         855.\n",
      "==============================================================================\n",
      "\n",
      "Notes:\n",
      "[1] Standard Errors assume that the covariance matrix of the errors is correctly specified.\n"
     ]
    },
    {
     "data": {
      "application/javascript": [
       "\n",
       "            setTimeout(function() {\n",
       "                var nbb_cell_id = 8;\n",
       "                var nbb_unformatted_code = \"mod = smf.ols(\\n    formula=\\\"intention ~ quotation_polarity + numOccurrences + quotation_subjectivity\\\",\\n    data=df,\\n)\\nres = mod.fit()\\nprint(res.summary())\";\n",
       "                var nbb_formatted_code = \"mod = smf.ols(\\n    formula=\\\"intention ~ quotation_polarity + numOccurrences + quotation_subjectivity\\\",\\n    data=df,\\n)\\nres = mod.fit()\\nprint(res.summary())\";\n",
       "                var nbb_cells = Jupyter.notebook.get_cells();\n",
       "                for (var i = 0; i < nbb_cells.length; ++i) {\n",
       "                    if (nbb_cells[i].input_prompt_number == nbb_cell_id) {\n",
       "                        if (nbb_cells[i].get_text() == nbb_unformatted_code) {\n",
       "                             nbb_cells[i].set_text(nbb_formatted_code);\n",
       "                        }\n",
       "                        break;\n",
       "                    }\n",
       "                }\n",
       "            }, 500);\n",
       "            "
      ],
      "text/plain": [
       "<IPython.core.display.Javascript object>"
      ]
     },
     "metadata": {},
     "output_type": "display_data"
    }
   ],
   "source": [
    "mod = smf.ols(\n",
    "    formula=\"intention ~ quotation_polarity + numOccurrences + quotation_subjectivity\",\n",
    "    data=df,\n",
    ")\n",
    "res = mod.fit()\n",
    "print(res.summary())"
   ]
  },
  {
   "cell_type": "code",
   "execution_count": 9,
   "metadata": {},
   "outputs": [
    {
     "name": "stdout",
     "output_type": "stream",
     "text": [
      "                            OLS Regression Results                            \n",
      "==============================================================================\n",
      "Dep. Variable:       intention_scaled   R-squared:                       0.012\n",
      "Model:                            OLS   Adj. R-squared:                 -0.003\n",
      "Method:                 Least Squares   F-statistic:                    0.8085\n",
      "Date:                Fri, 10 Dec 2021   Prob (F-statistic):              0.491\n",
      "Time:                        16:12:59   Log-Likelihood:                 40.400\n",
      "No. Observations:                 202   AIC:                            -72.80\n",
      "Df Residuals:                     198   BIC:                            -59.57\n",
      "Df Model:                           3                                         \n",
      "Covariance Type:            nonrobust                                         \n",
      "=================================================================================================\n",
      "                                    coef    std err          t      P>|t|      [0.025      0.975]\n",
      "-------------------------------------------------------------------------------------------------\n",
      "Intercept                         0.5920      0.098      6.012      0.000       0.398       0.786\n",
      "quotation_polarity_scaled         0.0122      0.137      0.089      0.929      -0.258       0.282\n",
      "numOccurrences_scaled            -0.1335      0.105     -1.270      0.206      -0.341       0.074\n",
      "quotation_subjectivity_scaled     0.0406      0.106      0.382      0.703      -0.169       0.250\n",
      "==============================================================================\n",
      "Omnibus:                        9.143   Durbin-Watson:                   1.804\n",
      "Prob(Omnibus):                  0.010   Jarque-Bera (JB):                9.686\n",
      "Skew:                          -0.531   Prob(JB):                      0.00788\n",
      "Kurtosis:                       2.851   Cond. No.                         15.6\n",
      "==============================================================================\n",
      "\n",
      "Notes:\n",
      "[1] Standard Errors assume that the covariance matrix of the errors is correctly specified.\n"
     ]
    },
    {
     "data": {
      "application/javascript": [
       "\n",
       "            setTimeout(function() {\n",
       "                var nbb_cell_id = 9;\n",
       "                var nbb_unformatted_code = \"mod = smf.ols(\\n    formula=\\\"intention_scaled ~ quotation_polarity_scaled + numOccurrences_scaled + quotation_subjectivity_scaled\\\",\\n    data=df,\\n)\\nres = mod.fit()\\nprint(res.summary())\";\n",
       "                var nbb_formatted_code = \"mod = smf.ols(\\n    formula=\\\"intention_scaled ~ quotation_polarity_scaled + numOccurrences_scaled + quotation_subjectivity_scaled\\\",\\n    data=df,\\n)\\nres = mod.fit()\\nprint(res.summary())\";\n",
       "                var nbb_cells = Jupyter.notebook.get_cells();\n",
       "                for (var i = 0; i < nbb_cells.length; ++i) {\n",
       "                    if (nbb_cells[i].input_prompt_number == nbb_cell_id) {\n",
       "                        if (nbb_cells[i].get_text() == nbb_unformatted_code) {\n",
       "                             nbb_cells[i].set_text(nbb_formatted_code);\n",
       "                        }\n",
       "                        break;\n",
       "                    }\n",
       "                }\n",
       "            }, 500);\n",
       "            "
      ],
      "text/plain": [
       "<IPython.core.display.Javascript object>"
      ]
     },
     "metadata": {},
     "output_type": "display_data"
    }
   ],
   "source": [
    "mod = smf.ols(\n",
    "    formula=\"intention_scaled ~ quotation_polarity_scaled + numOccurrences_scaled + quotation_subjectivity_scaled\",\n",
    "    data=df,\n",
    ")\n",
    "res = mod.fit()\n",
    "print(res.summary())"
   ]
  },
  {
   "cell_type": "markdown",
   "metadata": {},
   "source": [
    "Feature scaling does not seem to help."
   ]
  },
  {
   "cell_type": "code",
   "execution_count": 10,
   "metadata": {},
   "outputs": [
    {
     "name": "stdout",
     "output_type": "stream",
     "text": [
      "                              OLS Regression Results                              \n",
      "==================================================================================\n",
      "Dep. Variable:     intention_standardized   R-squared:                       0.012\n",
      "Model:                                OLS   Adj. R-squared:                 -0.003\n",
      "Method:                     Least Squares   F-statistic:                    0.8085\n",
      "Date:                    Fri, 10 Dec 2021   Prob (F-statistic):              0.491\n",
      "Time:                            16:12:59   Log-Likelihood:                -285.40\n",
      "No. Observations:                     202   AIC:                             578.8\n",
      "Df Residuals:                         198   BIC:                             592.0\n",
      "Df Model:                               3                                         \n",
      "Covariance Type:                nonrobust                                         \n",
      "=======================================================================================================\n",
      "                                          coef    std err          t      P>|t|      [0.025      0.975]\n",
      "-------------------------------------------------------------------------------------------------------\n",
      "Intercept                           -1.478e-15      0.071  -2.09e-14      1.000      -0.139       0.139\n",
      "quotation_polarity_standardized         0.0071      0.080      0.089      0.929      -0.150       0.164\n",
      "numOccurrences_standardized            -0.0948      0.075     -1.270      0.206      -0.242       0.052\n",
      "quotation_subjectivity_standardized     0.0304      0.080      0.382      0.703      -0.127       0.188\n",
      "==============================================================================\n",
      "Omnibus:                        9.143   Durbin-Watson:                   1.804\n",
      "Prob(Omnibus):                  0.010   Jarque-Bera (JB):                9.686\n",
      "Skew:                          -0.531   Prob(JB):                      0.00788\n",
      "Kurtosis:                       2.851   Cond. No.                         1.71\n",
      "==============================================================================\n",
      "\n",
      "Notes:\n",
      "[1] Standard Errors assume that the covariance matrix of the errors is correctly specified.\n"
     ]
    },
    {
     "data": {
      "application/javascript": [
       "\n",
       "            setTimeout(function() {\n",
       "                var nbb_cell_id = 10;\n",
       "                var nbb_unformatted_code = \"mod = smf.ols(\\n    formula=\\\"intention_standardized ~ quotation_polarity_standardized + numOccurrences_standardized + quotation_subjectivity_standardized\\\",\\n    data=df,\\n)\\nres = mod.fit()\\nprint(res.summary())\";\n",
       "                var nbb_formatted_code = \"mod = smf.ols(\\n    formula=\\\"intention_standardized ~ quotation_polarity_standardized + numOccurrences_standardized + quotation_subjectivity_standardized\\\",\\n    data=df,\\n)\\nres = mod.fit()\\nprint(res.summary())\";\n",
       "                var nbb_cells = Jupyter.notebook.get_cells();\n",
       "                for (var i = 0; i < nbb_cells.length; ++i) {\n",
       "                    if (nbb_cells[i].input_prompt_number == nbb_cell_id) {\n",
       "                        if (nbb_cells[i].get_text() == nbb_unformatted_code) {\n",
       "                             nbb_cells[i].set_text(nbb_formatted_code);\n",
       "                        }\n",
       "                        break;\n",
       "                    }\n",
       "                }\n",
       "            }, 500);\n",
       "            "
      ],
      "text/plain": [
       "<IPython.core.display.Javascript object>"
      ]
     },
     "metadata": {},
     "output_type": "display_data"
    }
   ],
   "source": [
    "mod = smf.ols(\n",
    "    formula=\"intention_standardized ~ quotation_polarity_standardized + numOccurrences_standardized + quotation_subjectivity_standardized\",\n",
    "    data=df,\n",
    ")\n",
    "res = mod.fit()\n",
    "print(res.summary())"
   ]
  },
  {
   "cell_type": "code",
   "execution_count": 11,
   "metadata": {},
   "outputs": [
    {
     "data": {
      "text/plain": [
       "-0.10509832347343104"
      ]
     },
     "execution_count": 11,
     "metadata": {},
     "output_type": "execute_result"
    },
    {
     "data": {
      "application/javascript": [
       "\n",
       "            setTimeout(function() {\n",
       "                var nbb_cell_id = 11;\n",
       "                var nbb_unformatted_code = \"corr, _ = pearsonr(df[\\\"intention\\\"], df[\\\"numOccurrences\\\"])\\ncorr\";\n",
       "                var nbb_formatted_code = \"corr, _ = pearsonr(df[\\\"intention\\\"], df[\\\"numOccurrences\\\"])\\ncorr\";\n",
       "                var nbb_cells = Jupyter.notebook.get_cells();\n",
       "                for (var i = 0; i < nbb_cells.length; ++i) {\n",
       "                    if (nbb_cells[i].input_prompt_number == nbb_cell_id) {\n",
       "                        if (nbb_cells[i].get_text() == nbb_unformatted_code) {\n",
       "                             nbb_cells[i].set_text(nbb_formatted_code);\n",
       "                        }\n",
       "                        break;\n",
       "                    }\n",
       "                }\n",
       "            }, 500);\n",
       "            "
      ],
      "text/plain": [
       "<IPython.core.display.Javascript object>"
      ]
     },
     "metadata": {},
     "output_type": "display_data"
    }
   ],
   "source": [
    "corr, _ = pearsonr(df[\"intention\"], df[\"numOccurrences\"])\n",
    "corr"
   ]
  },
  {
   "cell_type": "code",
   "execution_count": null,
   "metadata": {},
   "outputs": [],
   "source": []
  }
 ],
 "metadata": {
  "kernelspec": {
   "display_name": "ada",
   "language": "python",
   "name": "ada"
  },
  "language_info": {
   "codemirror_mode": {
    "name": "ipython",
    "version": 3
   },
   "file_extension": ".py",
   "mimetype": "text/x-python",
   "name": "python",
   "nbconvert_exporter": "python",
   "pygments_lexer": "ipython3",
   "version": "3.8.6"
  }
 },
 "nbformat": 4,
 "nbformat_minor": 4
}
