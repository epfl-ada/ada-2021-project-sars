{
 "cells": [
  {
   "cell_type": "markdown",
   "id": "4a0d04b6-83b0-4820-bf9b-82ba09e2cbe4",
   "metadata": {},
   "source": [
    "# Polls Date Parsing \n",
    "\n",
    "As there is no easy way to perfectly know where the year changes, it is advised to check that the last year correspond to reality. To check the last year you can look in the survey documents on the poll column on the website."
   ]
  },
  {
   "cell_type": "code",
   "execution_count": null,
   "id": "2c898e38-a37b-461a-ad30-a70f63bc134e",
   "metadata": {},
   "outputs": [],
   "source": [
    "import matplotlib.pyplot as plt\n",
    "import matplotlib.style as st\n",
    "import numpy as np\n",
    "import pandas as pd\n",
    "import regex as re\n",
    "import seaborn as sns\n",
    "from matplotlib import cm"
   ]
  },
  {
   "cell_type": "markdown",
   "id": "49c467d4-1c03-472d-9b14-342dceb8146a",
   "metadata": {},
   "source": [
    "## Functions"
   ]
  },
  {
   "cell_type": "code",
   "execution_count": null,
   "id": "724d3414-8665-41c4-bcf9-d48d240f6658",
   "metadata": {},
   "outputs": [],
   "source": [
    "def get_indices_to_split_at(df):\n",
    "    \"\"\"\n",
    "    Find where the year changes, returns a list with the indices.\n",
    "    \"\"\"\n",
    "    months = df[\"Date\"].str.extract(r\"(\\d+)\")\n",
    "    months[0][0] = 10\n",
    "    months = months.astype(int)\n",
    "    months_up_index = months[1:].reset_index(drop=True).append([0], ignore_index=True)\n",
    "    months_diff = months - months_up_index\n",
    "    potential_indices = months_diff[(months_diff[0] < 0) & (months_diff[0] != -1)].index\n",
    "    indices = []\n",
    "    for idx in potential_indices:\n",
    "        if (idx != 0) and (months[0][idx] != months[0][idx + 2]):\n",
    "            indices.append(idx)\n",
    "\n",
    "    return indices\n",
    "\n",
    "\n",
    "def split_at_indices(df, indices):\n",
    "    \"\"\"\n",
    "    Split the dataset based on the indices, return a list of dataframes.\n",
    "    \"\"\"\n",
    "    previous = 0\n",
    "    splitted = []\n",
    "\n",
    "    for i, idx in enumerate(indices):\n",
    "        if i == len(indices) - 1:\n",
    "            splitted.append(df[previous : idx + 1].copy())\n",
    "            splitted.append(df[idx + 1 :].copy())\n",
    "        elif i == 0:\n",
    "            splitted.append(df[: idx + 1].copy())\n",
    "        else:\n",
    "            splitted.append(df[previous : idx + 1].copy())\n",
    "\n",
    "        previous = idx + 1\n",
    "\n",
    "    return splitted\n",
    "\n",
    "\n",
    "def complete_date(df, year):\n",
    "    \"\"\"\n",
    "    Parse the date range that they give us into start date and end date.\n",
    "    The format is datetime, so that we can sort by date.\n",
    "    \"\"\"\n",
    "    df_temp = df.copy()\n",
    "    dates_start = df_temp[\"Date\"].str.split(\"-\").str[0]\n",
    "    dates_end = df_temp[\"Date\"].str.split(\"-\").str[1]\n",
    "\n",
    "    df_temp[\"Date_start\"] = str(year) + \"/\" + dates_start.astype(str)\n",
    "    df_temp[\"Date_end\"] = str(year) + \"/\" + dates_end.astype(str)\n",
    "\n",
    "    df_temp[\"Date_start\"] = df_temp[\"Date_start\"].astype(\"datetime64[ns]\")\n",
    "    df_temp[\"Date_end\"] = df_temp[\"Date_end\"].astype(\"datetime64[ns]\")\n",
    "\n",
    "    return df_temp\n",
    "\n",
    "\n",
    "def process_date(df, year):\n",
    "    \"\"\"\n",
    "    Parse the date column into start date and end dateand assign\n",
    "    the years based on the months order. It is advised to check the last year\n",
    "    for correctness.\n",
    "    \"\"\"\n",
    "    indices = get_indices_to_split_at(df)\n",
    "    splitted = split_at_indices(df, indices)\n",
    "    years = reversed(range(year - len(splitted) + 1, year + 1))\n",
    "    splitted_processed = [\n",
    "        complete_date(splitted[i], year) for i, year in enumerate(years)\n",
    "    ]\n",
    "    df_processed = pd.concat(splitted_processed)\n",
    "    df_processed = df_processed.sort_values(\"Date_start\").reset_index(drop=True)\n",
    "\n",
    "    return df_processed"
   ]
  },
  {
   "cell_type": "markdown",
   "id": "2bf9015f-8505-4b24-98ca-43f43a43e348",
   "metadata": {},
   "source": [
    "## Data loading"
   ]
  },
  {
   "cell_type": "code",
   "execution_count": null,
   "id": "cb77d6d4-3ea9-43fa-b0c7-d1e0bf6aab52",
   "metadata": {},
   "outputs": [],
   "source": [
    "df_tab_2012 = pd.read_csv(\"Data\\Scrapped\\polls_2012.csv\").drop(columns=\"Unnamed: 0\")\n",
    "df_tab_2016 = pd.read_csv(\"Data\\Scrapped\\polls_2016.csv\").drop(columns=\"Unnamed: 0\")\n",
    "df_tab_2020 = pd.read_csv(\"Data\\Scrapped\\polls_2020.csv\").drop(columns=\"Unnamed: 0\")"
   ]
  },
  {
   "cell_type": "markdown",
   "id": "70ad0a36-0b40-4496-b57c-bc788c9e6f65",
   "metadata": {},
   "source": [
    "## Parse dates"
   ]
  },
  {
   "cell_type": "code",
   "execution_count": null,
   "id": "4c8ac306-2a88-488b-b4ce-84dc080f82c1",
   "metadata": {},
   "outputs": [],
   "source": [
    "process_date(df_tab_2012, 2012)"
   ]
  },
  {
   "cell_type": "code",
   "execution_count": null,
   "id": "3c83148a-eb63-44e9-a83c-760aac8c6471",
   "metadata": {},
   "outputs": [],
   "source": [
    "process_date(df_tab_2016, 2016)"
   ]
  },
  {
   "cell_type": "code",
   "execution_count": null,
   "id": "526528dd-61db-4dda-a01b-a44a096189f6",
   "metadata": {},
   "outputs": [],
   "source": [
    "process_date(df_tab_2020, 2020)"
   ]
  }
 ],
 "metadata": {
  "kernelspec": {
   "display_name": "Python 3 (ipykernel)",
   "language": "python",
   "name": "python3"
  },
  "language_info": {
   "codemirror_mode": {
    "name": "ipython",
    "version": 3
   },
   "file_extension": ".py",
   "mimetype": "text/x-python",
   "name": "python",
   "nbconvert_exporter": "python",
   "pygments_lexer": "ipython3",
   "version": "3.8.0"
  }
 },
 "nbformat": 4,
 "nbformat_minor": 5
}
