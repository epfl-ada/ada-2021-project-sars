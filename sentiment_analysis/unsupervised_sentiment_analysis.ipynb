{
 "cells": [
  {
   "cell_type": "code",
   "execution_count": 1,
   "metadata": {},
   "outputs": [
    {
     "name": "stderr",
     "output_type": "stream",
     "text": [
      "[nltk_data] Downloading package stopwords to\n",
      "[nltk_data]     /Users/antoinecrettenand/nltk_data...\n",
      "[nltk_data]   Package stopwords is already up-to-date!\n",
      "[nltk_data] Downloading package wordnet to\n",
      "[nltk_data]     /Users/antoinecrettenand/nltk_data...\n",
      "[nltk_data]   Package wordnet is already up-to-date!\n"
     ]
    }
   ],
   "source": [
    "from utils import *\n",
    "\n",
    "DATA_PATH = \"../Data/\"\n",
    "MODEL = 'TextBlob'"
   ]
  },
  {
   "cell_type": "markdown",
   "metadata": {},
   "source": [
    "# Preprocessing for Sentiment Analysis\n",
    "We will run a baseline sentiment analysis with TextBlob implementation on our dataset i.e aggregated quotes based on mentions of 2012, 2016, 2020 U.S elections candidates. The goal of this preliminary analysis is :\n",
    "* Explore the distribution of positive/negative among quotes mentioning political candidates\n",
    "* Visualise partially the correctness of the baseline implementation through Wordclouds\n",
    "\n",
    "We calculated the general sentiment of each quotes using VADER model of the Natural Language Toolkit (NLTK). This widely used open-source algorithm specifies a sentiment score in the range [−1,1]. There are several approaches for identifying the sentiment on a sentence level (such as LIWC). However, VADER is preferred for our needs because it is sensitive to social media sentiment and can be adjusted easily to a specific domain."
   ]
  },
  {
   "cell_type": "code",
   "execution_count": 2,
   "metadata": {},
   "outputs": [],
   "source": [
    "# load data\n",
    "df_obama_2012 = pd.read_csv(f\"{DATA_PATH}2012/obama_2012.zip\", compression=\"zip\")\n",
    "df_romney_2012 = pd.read_csv(f\"{DATA_PATH}2012/romney_2012.zip\", compression=\"zip\")\n",
    "df_trump_2016 = pd.read_csv(f\"{DATA_PATH}2016/trump_2016.zip\", compression=\"zip\")\n",
    "df_clinton_2016 = pd.read_csv(f\"{DATA_PATH}2016/clinton_2016.zip\", compression=\"zip\")\n",
    "df_trump_2020 = pd.read_csv(f\"{DATA_PATH}2020/trump_2020.zip\", compression=\"zip\")\n",
    "df_biden_2020 = pd.read_csv(f\"{DATA_PATH}2020/biden_2020.zip\", compression=\"zip\")"
   ]
  },
  {
   "cell_type": "markdown",
   "metadata": {},
   "source": [
    "## Text preprocessing\n",
    "Our baseline text preprocessing consists of :\n",
    "* Make text lowercase\n",
    "* Remove punctuation\n",
    "* Remove stopwords\n",
    "* Lemmatization\n",
    "\n",
    "Before applying sentiment analysis. See implementation in [utils.py](utils.py) for more details."
   ]
  },
  {
   "cell_type": "code",
   "execution_count": 3,
   "metadata": {},
   "outputs": [
    {
     "name": "stdout",
     "output_type": "stream",
     "text": [
      "[process_sa] Prepared for sentiment analysis with tags: ['quotation_lemmatized', 'quotation_stemmed', 'quotation_tokenized', 'quotation_conc_lemmatized']\n",
      "[process_sa] Prepared for sentiment analysis with tags: ['quotation_lemmatized', 'quotation_stemmed', 'quotation_tokenized', 'quotation_conc_lemmatized']\n",
      "[process_sa] Prepared for sentiment analysis with tags: ['quotation_lemmatized', 'quotation_stemmed', 'quotation_tokenized', 'quotation_conc_lemmatized']\n",
      "[process_sa] Prepared for sentiment analysis with tags: ['quotation_lemmatized', 'quotation_stemmed', 'quotation_tokenized', 'quotation_conc_lemmatized']\n",
      "[process_sa] Prepared for sentiment analysis with tags: ['quotation_lemmatized', 'quotation_stemmed', 'quotation_tokenized', 'quotation_conc_lemmatized']\n",
      "[process_sa] Prepared for sentiment analysis with tags: ['quotation_lemmatized', 'quotation_stemmed', 'quotation_tokenized', 'quotation_conc_lemmatized']\n"
     ]
    },
    {
     "data": {
      "text/plain": "   Unnamed: 0  Unnamed: 0.1            quoteID  \\\n0           3          1709  2016-07-07-033290   \n1           9          6715  2016-07-25-126140   \n2          11          7112  2016-08-09-004561   \n3          15         11168  2016-09-07-092168   \n4          16         13945  2016-09-07-003185   \n\n                                           quotation          speaker  \\\n0  I didn't want to delete it -- I would have nev...  Donald J. Trump   \n1  Wow, the Republican Convention went so smoothl...     Donald Trump   \n2  Although, the Second Amendment people -- maybe...     Donald Trump   \n3  She's totally unfit to be our commander in chief.  Donald J. Trump   \n4  A Trump supporter is fighting against just abo...        Brad Pitt   \n\n                      qids                 date  numOccurrences  \\\n0               ['Q22686']  2016-07-07 01:49:02               4   \n1  ['Q22686', 'Q27947481']  2016-07-25 00:00:00             171   \n2  ['Q22686', 'Q27947481']  2016-08-09 00:00:00            1183   \n3               ['Q22686']  2016-09-07 16:38:49               2   \n4    ['Q35332', 'Q373912']  2016-09-07 10:34:00              16   \n\n                                              probas  \\\n0  [['Donald J. Trump', '0.7791'], ['None', '0.21...   \n1  [['Donald Trump', '0.8662'], ['None', '0.1103'...   \n2  [['Donald Trump', '0.6569'], ['None', '0.2428'...   \n3  [['Donald J. Trump', '0.4223'], ['Donald Trump...   \n4  [['Brad Pitt', '0.3934'], ['None', '0.349'], [...   \n\n                                                urls phase month      type  \\\n0  ['http://mobile.nytimes.com/2016/07/07/us/poli...     E   Jul  NY Times   \n1  ['http://dailyherald.com/article/20160725/news...     E   Jul  NY Times   \n2  ['http://onenewspage.com/video/20160809/525505...     E   Aug  NY Times   \n3  ['http://www.nytimes.com/2016/09/08/us/politic...     E   Sep  NY Times   \n4  ['http://eonline.com/news/792842/brad-pitt-wei...     E   Sep  NY Times   \n\n      candidate                                quotation_tokenized  \\\n0  Donald Trump  [i, did not, want, to, delete, it, i, would, h...   \n1  Donald Trump  [wow, the, , convention, went, so, smoothly, c...   \n2  Donald Trump  [although, the, second, amendment, people, , t...   \n3  Donald Trump  [she is, totally, unfit, to, , our, commander,...   \n4  Donald Trump  [a, trump, supporter, , fighting, against, jus...   \n\n                                   quotation_stemmed  \\\n0  [did not, want, delet, would, never, delet, pe...   \n1  [wow, , convent, went, smoothli, compar, dem, ...   \n2  [although, second, amend, peopl, , , do not, k...   \n3            [she i, total, unfit, , command, chief]   \n4               [trump, support, , fight, , everyth]   \n\n                                quotation_lemmatized  \\\n0  [did not, want, delete, would, never, deleted,...   \n1  [wow, , convention, went, smoothly, compared, ...   \n2  [although, second, amendment, people, , , do n...   \n3       [she is, totally, unfit, , commander, chief]   \n4       [trump, supporter, , fighting, , everything]   \n\n                           quotation_conc_lemmatized  \n0  did not want delete would never deleted people...  \n1  wow  convention went smoothly compared dems to...  \n2     although second amendment people   do not know  \n3              she is totally unfit  commander chief  \n4              trump supporter  fighting  everything  ",
      "text/html": "<div>\n<style scoped>\n    .dataframe tbody tr th:only-of-type {\n        vertical-align: middle;\n    }\n\n    .dataframe tbody tr th {\n        vertical-align: top;\n    }\n\n    .dataframe thead th {\n        text-align: right;\n    }\n</style>\n<table border=\"1\" class=\"dataframe\">\n  <thead>\n    <tr style=\"text-align: right;\">\n      <th></th>\n      <th>Unnamed: 0</th>\n      <th>Unnamed: 0.1</th>\n      <th>quoteID</th>\n      <th>quotation</th>\n      <th>speaker</th>\n      <th>qids</th>\n      <th>date</th>\n      <th>numOccurrences</th>\n      <th>probas</th>\n      <th>urls</th>\n      <th>phase</th>\n      <th>month</th>\n      <th>type</th>\n      <th>candidate</th>\n      <th>quotation_tokenized</th>\n      <th>quotation_stemmed</th>\n      <th>quotation_lemmatized</th>\n      <th>quotation_conc_lemmatized</th>\n    </tr>\n  </thead>\n  <tbody>\n    <tr>\n      <th>0</th>\n      <td>3</td>\n      <td>1709</td>\n      <td>2016-07-07-033290</td>\n      <td>I didn't want to delete it -- I would have nev...</td>\n      <td>Donald J. Trump</td>\n      <td>['Q22686']</td>\n      <td>2016-07-07 01:49:02</td>\n      <td>4</td>\n      <td>[['Donald J. Trump', '0.7791'], ['None', '0.21...</td>\n      <td>['http://mobile.nytimes.com/2016/07/07/us/poli...</td>\n      <td>E</td>\n      <td>Jul</td>\n      <td>NY Times</td>\n      <td>Donald Trump</td>\n      <td>[i, did not, want, to, delete, it, i, would, h...</td>\n      <td>[did not, want, delet, would, never, delet, pe...</td>\n      <td>[did not, want, delete, would, never, deleted,...</td>\n      <td>did not want delete would never deleted people...</td>\n    </tr>\n    <tr>\n      <th>1</th>\n      <td>9</td>\n      <td>6715</td>\n      <td>2016-07-25-126140</td>\n      <td>Wow, the Republican Convention went so smoothl...</td>\n      <td>Donald Trump</td>\n      <td>['Q22686', 'Q27947481']</td>\n      <td>2016-07-25 00:00:00</td>\n      <td>171</td>\n      <td>[['Donald Trump', '0.8662'], ['None', '0.1103'...</td>\n      <td>['http://dailyherald.com/article/20160725/news...</td>\n      <td>E</td>\n      <td>Jul</td>\n      <td>NY Times</td>\n      <td>Donald Trump</td>\n      <td>[wow, the, , convention, went, so, smoothly, c...</td>\n      <td>[wow, , convent, went, smoothli, compar, dem, ...</td>\n      <td>[wow, , convention, went, smoothly, compared, ...</td>\n      <td>wow  convention went smoothly compared dems to...</td>\n    </tr>\n    <tr>\n      <th>2</th>\n      <td>11</td>\n      <td>7112</td>\n      <td>2016-08-09-004561</td>\n      <td>Although, the Second Amendment people -- maybe...</td>\n      <td>Donald Trump</td>\n      <td>['Q22686', 'Q27947481']</td>\n      <td>2016-08-09 00:00:00</td>\n      <td>1183</td>\n      <td>[['Donald Trump', '0.6569'], ['None', '0.2428'...</td>\n      <td>['http://onenewspage.com/video/20160809/525505...</td>\n      <td>E</td>\n      <td>Aug</td>\n      <td>NY Times</td>\n      <td>Donald Trump</td>\n      <td>[although, the, second, amendment, people, , t...</td>\n      <td>[although, second, amend, peopl, , , do not, k...</td>\n      <td>[although, second, amendment, people, , , do n...</td>\n      <td>although second amendment people   do not know</td>\n    </tr>\n    <tr>\n      <th>3</th>\n      <td>15</td>\n      <td>11168</td>\n      <td>2016-09-07-092168</td>\n      <td>She's totally unfit to be our commander in chief.</td>\n      <td>Donald J. Trump</td>\n      <td>['Q22686']</td>\n      <td>2016-09-07 16:38:49</td>\n      <td>2</td>\n      <td>[['Donald J. Trump', '0.4223'], ['Donald Trump...</td>\n      <td>['http://www.nytimes.com/2016/09/08/us/politic...</td>\n      <td>E</td>\n      <td>Sep</td>\n      <td>NY Times</td>\n      <td>Donald Trump</td>\n      <td>[she is, totally, unfit, to, , our, commander,...</td>\n      <td>[she i, total, unfit, , command, chief]</td>\n      <td>[she is, totally, unfit, , commander, chief]</td>\n      <td>she is totally unfit  commander chief</td>\n    </tr>\n    <tr>\n      <th>4</th>\n      <td>16</td>\n      <td>13945</td>\n      <td>2016-09-07-003185</td>\n      <td>A Trump supporter is fighting against just abo...</td>\n      <td>Brad Pitt</td>\n      <td>['Q35332', 'Q373912']</td>\n      <td>2016-09-07 10:34:00</td>\n      <td>16</td>\n      <td>[['Brad Pitt', '0.3934'], ['None', '0.349'], [...</td>\n      <td>['http://eonline.com/news/792842/brad-pitt-wei...</td>\n      <td>E</td>\n      <td>Sep</td>\n      <td>NY Times</td>\n      <td>Donald Trump</td>\n      <td>[a, trump, supporter, , fighting, against, jus...</td>\n      <td>[trump, support, , fight, , everyth]</td>\n      <td>[trump, supporter, , fighting, , everything]</td>\n      <td>trump supporter  fighting  everything</td>\n    </tr>\n  </tbody>\n</table>\n</div>"
     },
     "execution_count": 3,
     "metadata": {},
     "output_type": "execute_result"
    }
   ],
   "source": [
    "# preprocess data for sentiment analysis\n",
    "tags = ['quotation_lemmatized', 'quotation_stemmed', 'quotation_tokenized', 'quotation_conc_lemmatized']\n",
    "df_trump_2016 = preprocess_data_for_sentiment_analysis(df_trump_2016, tags=tags)\n",
    "df_trump_2020 = preprocess_data_for_sentiment_analysis(df_trump_2020, tags=tags)\n",
    "df_clinton_2016 = preprocess_data_for_sentiment_analysis(df_clinton_2016, tags=tags)\n",
    "df_biden_2020 = preprocess_data_for_sentiment_analysis(df_biden_2020, tags=tags)\n",
    "df_obama_2012 = preprocess_data_for_sentiment_analysis(df_obama_2012, tags=tags)\n",
    "df_romney_2012 = preprocess_data_for_sentiment_analysis(df_romney_2012, tags=tags)\n",
    "\n",
    "df_trump_2016.head()"
   ]
  },
  {
   "cell_type": "markdown",
   "metadata": {},
   "source": [
    "## Sentiment Analysis\n",
    "Our baseline sentiment analysis consists of using TextBlob's sentiment analysis implementation which makes us of NLTK and pattern. The sentiment property is a namedtuple of the form Sentiment(polarity, subjectivity). The polarity score is a float within the range [-1.0, 1.0]. The subjectivity is a float within the range [0.0, 1.0] where 0.0 is very objective and 1.0 is very subjective. We separate the tuple and append two columns with the retrieved values."
   ]
  },
  {
   "cell_type": "code",
   "execution_count": 6,
   "outputs": [],
   "source": [
    "sentiment_analysis_datapath = f\"{DATA_PATH}preprocessed/\""
   ],
   "metadata": {
    "collapsed": false,
    "pycharm": {
     "name": "#%%\n"
    }
   }
  },
  {
   "cell_type": "code",
   "execution_count": 7,
   "metadata": {},
   "outputs": [
    {
     "name": "stdout",
     "output_type": "stream",
     "text": [
      "Processing sentiment analysis with TextBlob\n",
      "Processed dataset (13403, 20) with TextBlob in 4.312673091888428 seconds.\n"
     ]
    }
   ],
   "source": [
    "df_obama_2012_sa = expand_quotations_with_polarity_subjectivity(df_obama_2012, column='quotation_conc_lemmatized', modeln=MODEL)\n",
    "df_obama_2012_sa.to_csv(f'{sentiment_analysis_datapath}2012_obama_quotes_{MODEL}_processed.csv')"
   ]
  },
  {
   "cell_type": "code",
   "execution_count": 8,
   "outputs": [
    {
     "name": "stdout",
     "output_type": "stream",
     "text": [
      "Processing sentiment analysis with TextBlob\n",
      "Processed dataset (16098, 20) with TextBlob in 4.796056032180786 seconds.\n"
     ]
    }
   ],
   "source": [
    "df_romney_2012_sa = expand_quotations_with_polarity_subjectivity(df_romney_2012, column='quotation_conc_lemmatized', modeln=MODEL)\n",
    "df_romney_2012_sa.to_csv(f'{sentiment_analysis_datapath}2012_romney_quotes_{MODEL}_processed.csv')"
   ],
   "metadata": {
    "collapsed": false,
    "pycharm": {
     "name": "#%%\n"
    }
   }
  },
  {
   "cell_type": "code",
   "execution_count": 9,
   "outputs": [
    {
     "name": "stdout",
     "output_type": "stream",
     "text": [
      "Processing sentiment analysis with TextBlob\n",
      "Processed dataset (10092, 20) with TextBlob in 3.019674777984619 seconds.\n"
     ]
    }
   ],
   "source": [
    "df_trump_2016_sa = expand_quotations_with_polarity_subjectivity(df_trump_2016, column='quotation_conc_lemmatized', modeln=MODEL)\n",
    "df_trump_2016_sa.to_csv(f'{sentiment_analysis_datapath}2016_trump_quotes_{MODEL}_processed.csv')"
   ],
   "metadata": {
    "collapsed": false,
    "pycharm": {
     "name": "#%%\n"
    }
   }
  },
  {
   "cell_type": "code",
   "execution_count": 10,
   "outputs": [
    {
     "name": "stdout",
     "output_type": "stream",
     "text": [
      "Processing sentiment analysis with TextBlob\n",
      "Processed dataset (4632, 20) with TextBlob in 1.4874587059020996 seconds.\n"
     ]
    }
   ],
   "source": [
    "df_clinton_2016_sa = expand_quotations_with_polarity_subjectivity(df_clinton_2016, column='quotation_conc_lemmatized', modeln=MODEL)\n",
    "df_clinton_2016_sa.to_csv(f'{sentiment_analysis_datapath}2016_clinton_quotes_{MODEL}_processed.csv')"
   ],
   "metadata": {
    "collapsed": false,
    "pycharm": {
     "name": "#%%\n"
    }
   }
  },
  {
   "cell_type": "code",
   "execution_count": 11,
   "outputs": [
    {
     "name": "stdout",
     "output_type": "stream",
     "text": [
      "Processing sentiment analysis with TextBlob\n",
      "Processed dataset (6976, 20) with TextBlob in 2.251375198364258 seconds.\n"
     ]
    }
   ],
   "source": [
    "df_trump_2020_sa = expand_quotations_with_polarity_subjectivity(df_trump_2020, column='quotation_conc_lemmatized', modeln=MODEL)\n",
    "df_trump_2020_sa.to_csv(f'{sentiment_analysis_datapath}2020_trump_quotes_{MODEL}_processed.csv')"
   ],
   "metadata": {
    "collapsed": false,
    "pycharm": {
     "name": "#%%\n"
    }
   }
  },
  {
   "cell_type": "code",
   "execution_count": 12,
   "outputs": [
    {
     "name": "stdout",
     "output_type": "stream",
     "text": [
      "Processing sentiment analysis with TextBlob\n",
      "Processed dataset (2733, 20) with TextBlob in 0.9120192527770996 seconds.\n"
     ]
    }
   ],
   "source": [
    "df_biden_2020_sa = expand_quotations_with_polarity_subjectivity(df_biden_2020, column='quotation_conc_lemmatized', modeln=MODEL)\n",
    "df_biden_2020_sa.to_csv(f'{sentiment_analysis_datapath}2020_biden_quotes_{MODEL}_processed.csv')"
   ],
   "metadata": {
    "collapsed": false,
    "pycharm": {
     "name": "#%%\n"
    }
   }
  }
 ],
 "metadata": {
  "interpreter": {
   "hash": "31f2aee4e71d21fbe5cf8b01ff0e069b9275f58929596ceb00d14d90e3e16cd6"
  },
  "kernelspec": {
   "display_name": "Python 3.8.2 64-bit",
   "name": "python3"
  },
  "language_info": {
   "codemirror_mode": {
    "name": "ipython",
    "version": 3
   },
   "file_extension": ".py",
   "mimetype": "text/x-python",
   "name": "python",
   "nbconvert_exporter": "python",
   "pygments_lexer": "ipython3",
   "version": "3.8.2"
  }
 },
 "nbformat": 4,
 "nbformat_minor": 2
}